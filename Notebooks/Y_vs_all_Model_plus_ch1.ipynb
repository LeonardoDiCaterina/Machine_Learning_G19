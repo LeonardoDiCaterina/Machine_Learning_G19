{
 "cells": [
  {
   "cell_type": "markdown",
   "metadata": {
    "vscode": {
     "languageId": "plaintext"
    }
   },
   "source": [
    "#  Y = 1 vs all"
   ]
  },
  {
   "cell_type": "code",
   "execution_count": null,
   "metadata": {},
   "outputs": [],
   "source": [
    "#! git clone https://github.com/LeonardoDiCaterina/Machine_Learning_G19.git\n",
    "#! mv Machine_Learning_G19/* .\n",
    "#! pip install scikit-learn==1.5.1\n",
    "#! pip install \n",
    "#!pip install joblib==1.2.0\n",
    "#! pip install catboost\n",
    "#! pip install xgboost\n",
    "#! pip install lightgbm"
   ]
  },
  {
   "cell_type": "code",
   "execution_count": null,
   "metadata": {},
   "outputs": [],
   "source": [
    "# sys.path.append('/content/Machine_Learning_G19/Library')\n",
    "# train_path = \"/content/Machine_Learning_G19/Data/train_data_mok.csv\"\n",
    "# test_path = \"/content/Machine_Learning_G19/Data/test_data_mok.csv\""
   ]
  },
  {
   "cell_type": "markdown",
   "metadata": {},
   "source": [
    "# checkpoint 1"
   ]
  },
  {
   "cell_type": "code",
   "execution_count": 1,
   "metadata": {},
   "outputs": [],
   "source": [
    "YEQUALS = 1"
   ]
  },
  {
   "cell_type": "code",
   "execution_count": 2,
   "metadata": {},
   "outputs": [
    {
     "name": "stdout",
     "output_type": "stream",
     "text": [
      "/Users/leonardodicaterina/Documents/GitHub/Machine_Learning_G19/Notebooks\n"
     ]
    }
   ],
   "source": [
    "import pandas as pd\n",
    "import numpy as np\n",
    "import matplotlib.pyplot as plt\n",
    "import seaborn as sns\n",
    "from math import log\n",
    "import warnings\n",
    "warnings.filterwarnings(\"ignore\")\n",
    "# install libraries\n",
    "from sklearn.model_selection import train_test_split\n",
    "from sklearn.feature_selection import RFECV\n",
    "from sklearn.linear_model import LogisticRegression\n",
    "from sklearn.ensemble import RandomForestClassifier\n",
    "import os\n",
    "! pwd\n",
    "import sys\n",
    "sys.path.append('../Library')\n",
    "\n",
    "from data_prep import PreProcessor1\n",
    "\n",
    "import library_leo as leo\n",
    "\n"
   ]
  },
  {
   "cell_type": "code",
   "execution_count": 3,
   "metadata": {},
   "outputs": [],
   "source": [
    "train_path = \"../Data/train_data.csv\"\n",
    "test_path = \"../Data/test_data.csv\"\n",
    "# Replace 'Column29' with the actual column name that has mixed types\n",
    "dtype = {'Column29': 'str'}\n",
    "\n",
    "train = pd.read_csv(train_path, dtype=dtype,index_col='Claim Identifier')\n",
    "dtest = pd.read_csv(test_path, dtype=dtype,index_col='Claim Identifier')"
   ]
  },
  {
   "cell_type": "code",
   "execution_count": 4,
   "metadata": {},
   "outputs": [],
   "source": [
    "train = train.dropna(subset=['Claim Injury Type'])\n",
    "y = train['Claim Injury Type']\n",
    "train = train.drop(columns=['Claim Injury Type'])\n",
    "y_str = y.str[:1]\n",
    "y_int = y_str.astype(int)\n",
    "# make Y_int 1 if it's equal to YEQUALS else 0\n",
    "y_int = y_int.apply(lambda x: 1 if x == YEQUALS else 0)"
   ]
  },
  {
   "cell_type": "code",
   "execution_count": 5,
   "metadata": {},
   "outputs": [],
   "source": [
    "# partition the data X, y and y_2bin\n",
    "X_train, X_valid, y_train,y_valid = train_test_split(\n",
    "    train, y_int, test_size=0.2, random_state=0,stratify=y_int)"
   ]
  },
  {
   "cell_type": "code",
   "execution_count": 6,
   "metadata": {},
   "outputs": [
    {
     "data": {
      "text/plain": [
       "Claim Injury Type\n",
       "0    449238\n",
       "1      9982\n",
       "Name: count, dtype: int64"
      ]
     },
     "execution_count": 6,
     "metadata": {},
     "output_type": "execute_result"
    }
   ],
   "source": [
    "y_train.value_counts()"
   ]
  },
  {
   "cell_type": "code",
   "execution_count": 7,
   "metadata": {},
   "outputs": [
    {
     "name": "stdout",
     "output_type": "stream",
     "text": [
      "------------updates---------------------\n",
      "------------set_casting---------------------\n",
      "Columns that are not casted:\n",
      "-WCB Decision: object\n",
      "------------pipeline---------------------\n",
      "Feature Carrier Type is already in scaling list\n",
      "Feature Zip Code is already in scaling list\n",
      "'Industry Code Description'\n",
      "-Column Industry Code Description not found\n",
      "df after cast_pipeline: (459220, 26)\n",
      "------------fillna---------------------\n",
      "extended fillna_list: [('Age at Injury', 'median'), ('Average Weekly Wage', 'median'), ('Birth Year', 'median'), ('IME-4 Count', 'median'), ('Industry Code', 'median'), ('WCIO Cause of Injury Code', 'median'), ('WCIO Nature of Injury Code', 'median'), ('WCIO Part Of Body Code', 'median'), ('Zip Code', 'median'), ('Agreement Reached', 'median'), ('Number of Dependents', 'median'), ('Accident Date', 'mode'), ('Alternative Dispute Resolution', 'mode'), ('Assembly Date', 'mode'), ('Attorney/Representative', 'mode'), ('C-2 Date', 'mode'), ('C-3 Date', 'mode'), ('Carrier Name', 'mode'), ('Carrier Type', 'mode'), ('County of Injury', 'mode'), ('COVID-19 Indicator', 'mode'), ('District Name', 'mode'), ('First Hearing Date', 'mode'), ('Gender', 'mode'), ('Medical Fee Region', 'mode'), ('WCB Decision', 'mode')]\n",
      "nans in the beginning: 1108729\n",
      "Column Age at Injury is filled with median ->num nan: 0\n",
      "Column Average Weekly Wage is filled with median ->num nan: 0\n",
      "Column Birth Year is filled with median ->num nan: 0\n",
      "Column IME-4 Count is filled with median ->num nan: 0\n",
      "Column Industry Code is filled with median ->num nan: 0\n",
      "Column WCIO Cause of Injury Code is filled with median ->num nan: 0\n",
      "Column WCIO Nature of Injury Code is filled with median ->num nan: 0\n",
      "Column WCIO Part Of Body Code is filled with median ->num nan: 0\n",
      "Column Zip Code is filled with median ->num nan: 0\n",
      "Column Agreement Reached is filled with median ->num nan: 0\n",
      "Column Number of Dependents is filled with median ->num nan: 0\n",
      "Column Accident Date is filled with mode ->num nan: 0\n",
      "Column Alternative Dispute Resolution is filled with mode ->num nan: 0\n",
      "Column Assembly Date is filled with mode ->num nan: 0\n",
      "Column Attorney/Representative is filled with mode ->num nan: 0\n",
      "Column C-2 Date is filled with mode ->num nan: 0\n",
      "Column C-3 Date is filled with mode ->num nan: 0\n",
      "Column Carrier Name is filled with mode ->num nan: 0\n",
      "Column Carrier Type is filled with mode ->num nan: 0\n",
      "Column County of Injury is filled with mode ->num nan: 0\n",
      "Column COVID-19 Indicator is filled with mode ->num nan: 0\n",
      "Column District Name is filled with mode ->num nan: 0\n",
      "Column First Hearing Date is filled with mode ->num nan: 0\n",
      "Column Gender is filled with mode ->num nan: 0\n",
      "Column Medical Fee Region is filled with mode ->num nan: 0\n",
      "Column WCB Decision is filled with mode ->num nan: 0\n",
      "nans in the end: 0\n",
      "df after fillna_pipeline: (459220, 26)\n",
      "------------transformation---------------------\n",
      "Warning: there are duplicates in the transformation list\n",
      "Columns that are not transformed:\n",
      "-County of Injury: string\n",
      "-Birth Year: Int64\n",
      "-Number of Dependents: Int64\n",
      "-District Name: object\n",
      "-Average Weekly Wage: float64\n",
      "-Carrier Type: string\n",
      "-WCB Decision: object\n",
      "-IME-4 Count: Int64\n",
      "-Carrier Name: string\n",
      "-Agreement Reached: Int64\n",
      "-Medical Fee Region: string\n",
      "-Gender: string\n",
      "-Age at Injury: Int64\n",
      "Feature log_Average Weekly Wage is already in scaling list\n",
      "Feature Alternative Dispute Resolution is already in scaling list\n",
      "Feature COVID-19 Indicator is already in scaling list\n",
      "Column Carrier Type has too many unique values for oneHot encoding: 8\n",
      "ony 5 allowed, change the parameter if needed\n",
      "Feature fe_Carrier Type is already in scaling list\n",
      "Column Medical Fee Region has too many unique values for oneHot encoding: 5\n",
      "ony 5 allowed, change the parameter if needed\n",
      "Feature fe_Medical Fee Region is already in scaling list\n",
      "Column County of Injury has too many unique values for oneHot encoding: 63\n",
      "ony 5 allowed, change the parameter if needed\n",
      "Feature fe_County of Injury is already in scaling list\n",
      "Feature Attorney/Representative is already in scaling list\n",
      "Feature Age is already in scaling list\n",
      "Feature First Hearing Month is already in scaling list\n",
      "Feature First Hearing Year is already in scaling list\n",
      "Feature Assembly Month is already in scaling list\n",
      "Feature Assembly Year is already in scaling list\n",
      "Feature Accident Month is already in scaling list\n",
      "Feature Accident Year is already in scaling list\n",
      "Feature C-2 Month is already in scaling list\n",
      "Feature C-2 Year is already in scaling list\n",
      "Feature C-3 Month is already in scaling list\n",
      "Feature C-3 Year is already in scaling list\n",
      "Feature fe_Zip Code is already in scaling list\n",
      "Feature fe_Industry Code is already in scaling list\n",
      "Feature fe_WCIO Cause of Injury Code is already in scaling list\n",
      "Feature fe_WCIO Nature of Injury Code is already in scaling list\n",
      "Feature fe_WCIO Part Of Body Code is already in scaling list\n",
      "df after transformation_pipeline: (459220, 46)\n",
      "scaling_cols: ['Age at Injury', 'Average Weekly Wage', 'Birth Year', 'IME-4 Count', 'Industry Code', 'WCIO Cause of Injury Code', 'WCIO Nature of Injury Code', 'WCIO Part Of Body Code', 'Number of Dependents', 'log_Average Weekly Wage', 'fe_Carrier Type', 'fe_Medical Fee Region', 'fe_County of Injury', 'Age', 'First Hearing Month', 'First Hearing Year', 'Assembly Month', 'Assembly Year', 'Accident Month', 'Accident Year', 'C-2 Month', 'C-2 Year', 'C-3 Month', 'C-3 Year', 'fe_Zip Code', 'fe_Industry Code', 'fe_WCIO Cause of Injury Code', 'fe_WCIO Nature of Injury Code', 'fe_WCIO Part Of Body Code', 'fe_Carrier Name']\n",
      "<class 'pandas.core.frame.DataFrame'>\n",
      "Index: 459220 entries, 6096811 to 5741716\n",
      "Data columns (total 30 columns):\n",
      " #   Column                         Non-Null Count   Dtype  \n",
      "---  ------                         --------------   -----  \n",
      " 0   Age at Injury                  459220 non-null  Int64  \n",
      " 1   Average Weekly Wage            459220 non-null  float64\n",
      " 2   Birth Year                     459220 non-null  Int64  \n",
      " 3   IME-4 Count                    459220 non-null  Int64  \n",
      " 4   Industry Code                  459220 non-null  Int64  \n",
      " 5   WCIO Cause of Injury Code      459220 non-null  Int64  \n",
      " 6   WCIO Nature of Injury Code     459220 non-null  Int64  \n",
      " 7   WCIO Part Of Body Code         459220 non-null  Int64  \n",
      " 8   Number of Dependents           459220 non-null  Int64  \n",
      " 9   log_Average Weekly Wage        459220 non-null  float64\n",
      " 10  fe_Carrier Type                459220 non-null  float64\n",
      " 11  fe_Medical Fee Region          459220 non-null  float64\n",
      " 12  fe_County of Injury            459220 non-null  float64\n",
      " 13  Age                            459220 non-null  Int64  \n",
      " 14  First Hearing Month            459220 non-null  Int64  \n",
      " 15  First Hearing Year             459220 non-null  Int64  \n",
      " 16  Assembly Month                 459220 non-null  Int64  \n",
      " 17  Assembly Year                  459220 non-null  Int64  \n",
      " 18  Accident Month                 459220 non-null  Int64  \n",
      " 19  Accident Year                  459220 non-null  Int64  \n",
      " 20  C-2 Month                      459220 non-null  Int64  \n",
      " 21  C-2 Year                       459220 non-null  Int64  \n",
      " 22  C-3 Month                      459220 non-null  Int64  \n",
      " 23  C-3 Year                       459220 non-null  Int64  \n",
      " 24  fe_Zip Code                    459220 non-null  float64\n",
      " 25  fe_Industry Code               459220 non-null  float64\n",
      " 26  fe_WCIO Cause of Injury Code   459220 non-null  float64\n",
      " 27  fe_WCIO Nature of Injury Code  459220 non-null  float64\n",
      " 28  fe_WCIO Part Of Body Code      459220 non-null  float64\n",
      " 29  fe_Carrier Name                459220 non-null  float64\n",
      "dtypes: Int64(19), float64(11)\n",
      "memory usage: 116.9 MB\n",
      "info: None\n",
      "<class 'pandas.core.frame.DataFrame'>\n",
      "Index: 459220 entries, 6096811 to 5741716\n",
      "Data columns (total 44 columns):\n",
      " #   Column                          Non-Null Count   Dtype  \n",
      "---  ------                          --------------   -----  \n",
      " 0   Alternative Dispute Resolution  459220 non-null  int64  \n",
      " 1   Attorney/Representative         459220 non-null  int64  \n",
      " 2   Carrier Name                    459220 non-null  string \n",
      " 3   Carrier Type                    459220 non-null  string \n",
      " 4   County of Injury                459220 non-null  string \n",
      " 5   COVID-19 Indicator              459220 non-null  int64  \n",
      " 6   District Name                   459220 non-null  object \n",
      " 7   Gender                          459220 non-null  string \n",
      " 8   Medical Fee Region              459220 non-null  string \n",
      " 9   Zip Code                        459220 non-null  Int64  \n",
      " 10  Gender_F                        459220 non-null  float64\n",
      " 11  Gender_M                        459220 non-null  float64\n",
      " 12  Gender_U                        459220 non-null  float64\n",
      " 13  Gender_X                        459220 non-null  float64\n",
      " 14  Age at Injury                   459220 non-null  float64\n",
      " 15  Average Weekly Wage             459220 non-null  float64\n",
      " 16  Birth Year                      459220 non-null  float64\n",
      " 17  IME-4 Count                     459220 non-null  float64\n",
      " 18  Industry Code                   459220 non-null  float64\n",
      " 19  WCIO Cause of Injury Code       459220 non-null  float64\n",
      " 20  WCIO Nature of Injury Code      459220 non-null  float64\n",
      " 21  WCIO Part Of Body Code          459220 non-null  float64\n",
      " 22  Number of Dependents            459220 non-null  float64\n",
      " 23  log_Average Weekly Wage         459220 non-null  float64\n",
      " 24  fe_Carrier Type                 459220 non-null  float64\n",
      " 25  fe_Medical Fee Region           459220 non-null  float64\n",
      " 26  fe_County of Injury             459220 non-null  float64\n",
      " 27  Age                             459220 non-null  float64\n",
      " 28  First Hearing Month             459220 non-null  float64\n",
      " 29  First Hearing Year              459220 non-null  float64\n",
      " 30  Assembly Month                  459220 non-null  float64\n",
      " 31  Assembly Year                   459220 non-null  float64\n",
      " 32  Accident Month                  459220 non-null  float64\n",
      " 33  Accident Year                   459220 non-null  float64\n",
      " 34  C-2 Month                       459220 non-null  float64\n",
      " 35  C-2 Year                        459220 non-null  float64\n",
      " 36  C-3 Month                       459220 non-null  float64\n",
      " 37  C-3 Year                        459220 non-null  float64\n",
      " 38  fe_Zip Code                     459220 non-null  float64\n",
      " 39  fe_Industry Code                459220 non-null  float64\n",
      " 40  fe_WCIO Cause of Injury Code    459220 non-null  float64\n",
      " 41  fe_WCIO Nature of Injury Code   459220 non-null  float64\n",
      " 42  fe_WCIO Part Of Body Code       459220 non-null  float64\n",
      " 43  fe_Carrier Name                 459220 non-null  float64\n",
      "dtypes: Int64(1), float64(34), int64(3), object(1), string(5)\n",
      "memory usage: 158.1+ MB\n"
     ]
    }
   ],
   "source": [
    "pr = PreProcessor1()\n",
    "print(\"------------updates---------------------\")\n",
    "pr.update_casted_cols()\n",
    "print(\"------------set_casting---------------------\")\n",
    "pr.set_castings(X_train)\n",
    "print(\"------------pipeline---------------------\")\n",
    "df_train = pr.cast_pipeline(X_train)\n",
    "print(\"df after cast_pipeline:\", df_train.shape)\n",
    "print(\"------------fillna---------------------\")\n",
    "pr.update_fillna_list(df_train)   \n",
    "df_train = pr.fillna_pipeline(df_train)\n",
    "print(\"df after fillna_pipeline:\", df_train.shape)\n",
    "print(\"------------transformation---------------------\")\n",
    "pr.set_transformations(df_train)\n",
    "pr.append_transformation('Carrier Name','freq_encode','fe_Carrier Name')\n",
    "df_train = pr.transformation_pipeline(df_train)\n",
    "print(\"df after transformation_pipeline:\", df_train.shape)\n",
    "df_train= pr.scaling_pipeline(df_train)\n",
    "df_train = df_train.drop(columns=['Agreement Reached', 'WCB Decision'])\n",
    "df_train.info() "
   ]
  },
  {
   "cell_type": "code",
   "execution_count": 8,
   "metadata": {},
   "outputs": [
    {
     "name": "stdout",
     "output_type": "stream",
     "text": [
      "------------updates---------------------\n",
      "------------set_casting---------------------\n",
      "Columns that are not casted:\n",
      "-WCB Decision: object\n",
      "------------pipeline---------------------\n",
      "Feature Carrier Type is already in scaling list\n",
      "Feature Zip Code is already in scaling list\n",
      "'Industry Code Description'\n",
      "-Column Industry Code Description not found\n",
      "\"['Industry Code Description'] not found in axis\"\n",
      "-Column Industry Code Description not found\n",
      "\"['OIICS Nature of Injury Description'] not found in axis\"\n",
      "-Column OIICS Nature of Injury Description not found\n",
      "\"['WCIO Cause of Injury Description'] not found in axis\"\n",
      "-Column WCIO Cause of Injury Description not found\n",
      "\"['WCIO Nature of Injury Description'] not found in axis\"\n",
      "-Column WCIO Nature of Injury Description not found\n",
      "\"['WCIO Part Of Body Description'] not found in axis\"\n",
      "-Column WCIO Part Of Body Description not found\n",
      "'Industry Code Description'\n",
      "-Column Industry Code Description not found\n",
      "df after cast_pipeline: (114806, 26)\n",
      "------------fillna---------------------\n",
      "extended fillna_list: [('Age at Injury', 'median'), ('Average Weekly Wage', 'median'), ('Birth Year', 'median'), ('IME-4 Count', 'median'), ('Industry Code', 'median'), ('WCIO Cause of Injury Code', 'median'), ('WCIO Nature of Injury Code', 'median'), ('WCIO Part Of Body Code', 'median'), ('Zip Code', 'median'), ('Agreement Reached', 'median'), ('Number of Dependents', 'median'), ('Accident Date', 'mode'), ('Alternative Dispute Resolution', 'mode'), ('Assembly Date', 'mode'), ('Attorney/Representative', 'mode'), ('C-2 Date', 'mode'), ('C-3 Date', 'mode'), ('Carrier Name', 'mode'), ('Carrier Type', 'mode'), ('County of Injury', 'mode'), ('COVID-19 Indicator', 'mode'), ('District Name', 'mode'), ('First Hearing Date', 'mode'), ('Gender', 'mode'), ('Medical Fee Region', 'mode'), ('WCB Decision', 'mode')]\n",
      "nans in the beginning: 276818\n",
      "Column Age at Injury is filled with median ->num nan: 0\n",
      "Column Average Weekly Wage is filled with median ->num nan: 0\n",
      "Column Birth Year is filled with median ->num nan: 0\n",
      "Column IME-4 Count is filled with median ->num nan: 0\n",
      "Column Industry Code is filled with median ->num nan: 0\n",
      "Column WCIO Cause of Injury Code is filled with median ->num nan: 0\n",
      "Column WCIO Nature of Injury Code is filled with median ->num nan: 0\n",
      "Column WCIO Part Of Body Code is filled with median ->num nan: 0\n",
      "Column Zip Code is filled with median ->num nan: 0\n",
      "Column Agreement Reached is filled with median ->num nan: 0\n",
      "Column Number of Dependents is filled with median ->num nan: 0\n",
      "Column Accident Date is filled with mode ->num nan: 0\n",
      "Column Alternative Dispute Resolution is filled with mode ->num nan: 0\n",
      "Column Assembly Date is filled with mode ->num nan: 0\n",
      "Column Attorney/Representative is filled with mode ->num nan: 0\n",
      "Column C-2 Date is filled with mode ->num nan: 0\n",
      "Column C-3 Date is filled with mode ->num nan: 0\n",
      "Column Carrier Name is filled with mode ->num nan: 0\n",
      "Column Carrier Type is filled with mode ->num nan: 0\n",
      "Column County of Injury is filled with mode ->num nan: 0\n",
      "Column COVID-19 Indicator is filled with mode ->num nan: 0\n",
      "Column District Name is filled with mode ->num nan: 0\n",
      "Column First Hearing Date is filled with mode ->num nan: 0\n",
      "Column Gender is filled with mode ->num nan: 0\n",
      "Column Medical Fee Region is filled with mode ->num nan: 0\n",
      "Column WCB Decision is filled with mode ->num nan: 0\n",
      "nans in the end: 0\n",
      "df after fillna_pipeline: (114806, 26)\n",
      "------------transformation---------------------\n",
      "Warning: there are duplicates in the transformation list\n",
      "Columns that are not transformed:\n",
      "-County of Injury: string\n",
      "-Birth Year: Int64\n",
      "-Number of Dependents: Int64\n",
      "-District Name: object\n",
      "-Average Weekly Wage: float64\n",
      "-Carrier Type: string\n",
      "-WCB Decision: object\n",
      "-IME-4 Count: Int64\n",
      "-Carrier Name: string\n",
      "-Agreement Reached: Int64\n",
      "-Medical Fee Region: string\n",
      "-Gender: string\n",
      "-Age at Injury: Int64\n",
      "Feature log_Average Weekly Wage is already in scaling list\n",
      "Feature Alternative Dispute Resolution is already in scaling list\n",
      "Feature COVID-19 Indicator is already in scaling list\n",
      "Column Carrier Type has too many unique values for oneHot encoding: 7\n",
      "ony 5 allowed, change the parameter if needed\n",
      "Feature fe_Carrier Type is already in scaling list\n",
      "Column Medical Fee Region has too many unique values for oneHot encoding: 5\n",
      "ony 5 allowed, change the parameter if needed\n",
      "Feature fe_Medical Fee Region is already in scaling list\n",
      "Column County of Injury has too many unique values for oneHot encoding: 63\n",
      "ony 5 allowed, change the parameter if needed\n",
      "Feature fe_County of Injury is already in scaling list\n",
      "Feature Attorney/Representative is already in scaling list\n",
      "Feature Age is already in scaling list\n",
      "Feature First Hearing Month is already in scaling list\n",
      "Feature First Hearing Year is already in scaling list\n",
      "Feature Assembly Month is already in scaling list\n",
      "Feature Assembly Year is already in scaling list\n",
      "Feature Accident Month is already in scaling list\n",
      "Feature Accident Year is already in scaling list\n",
      "Feature C-2 Month is already in scaling list\n",
      "Feature C-2 Year is already in scaling list\n",
      "Feature C-3 Month is already in scaling list\n",
      "Feature C-3 Year is already in scaling list\n",
      "Feature fe_Zip Code is already in scaling list\n",
      "Feature fe_Industry Code is already in scaling list\n",
      "Feature fe_WCIO Cause of Injury Code is already in scaling list\n",
      "Feature fe_WCIO Nature of Injury Code is already in scaling list\n",
      "Feature fe_WCIO Part Of Body Code is already in scaling list\n",
      "Feature fe_Carrier Name is already in scaling list\n",
      "'First Hearing Date'\n",
      "Column First Hearing Date not found\n",
      "'First Hearing Date'\n",
      "Column First Hearing Date not found\n",
      "\"['First Hearing Date'] not found in axis\"\n",
      "Column First Hearing Date not found\n",
      "'Assembly Date'\n",
      "Column Assembly Date not found\n",
      "'Assembly Date'\n",
      "Column Assembly Date not found\n",
      "\"['Assembly Date'] not found in axis\"\n",
      "Column Assembly Date not found\n",
      "'Accident Date'\n",
      "Column Accident Date not found\n",
      "'Accident Date'\n",
      "Column Accident Date not found\n",
      "\"['Accident Date'] not found in axis\"\n",
      "Column Accident Date not found\n",
      "'C-2 Date'\n",
      "Column C-2 Date not found\n",
      "'C-2 Date'\n",
      "Column C-2 Date not found\n",
      "\"['C-2 Date'] not found in axis\"\n",
      "Column C-2 Date not found\n",
      "'C-3 Date'\n",
      "Column C-3 Date not found\n",
      "'C-3 Date'\n",
      "Column C-3 Date not found\n",
      "\"['C-3 Date'] not found in axis\"\n",
      "Column C-3 Date not found\n",
      "Feature fe_Zip Code is already in scaling list\n",
      "Feature fe_Industry Code is already in scaling list\n",
      "Feature fe_WCIO Cause of Injury Code is already in scaling list\n",
      "Feature fe_WCIO Nature of Injury Code is already in scaling list\n",
      "Feature fe_WCIO Part Of Body Code is already in scaling list\n",
      "df after transformation_pipeline: (114806, 46)\n",
      "<class 'pandas.core.frame.DataFrame'>\n",
      "Index: 114806 entries, 5648626 to 5705843\n",
      "Data columns (total 44 columns):\n",
      " #   Column                          Non-Null Count   Dtype  \n",
      "---  ------                          --------------   -----  \n",
      " 0   Alternative Dispute Resolution  114806 non-null  int64  \n",
      " 1   Attorney/Representative         114806 non-null  int64  \n",
      " 2   Carrier Name                    114806 non-null  string \n",
      " 3   Carrier Type                    114806 non-null  string \n",
      " 4   County of Injury                114806 non-null  string \n",
      " 5   COVID-19 Indicator              114806 non-null  int64  \n",
      " 6   District Name                   114806 non-null  object \n",
      " 7   Gender                          114806 non-null  string \n",
      " 8   Medical Fee Region              114806 non-null  string \n",
      " 9   Zip Code                        114806 non-null  Int64  \n",
      " 10  Gender_F                        114806 non-null  float64\n",
      " 11  Gender_M                        114806 non-null  float64\n",
      " 12  Gender_U                        114806 non-null  float64\n",
      " 13  Gender_X                        114806 non-null  float64\n",
      " 14  Age at Injury                   114806 non-null  float64\n",
      " 15  Average Weekly Wage             114806 non-null  float64\n",
      " 16  Birth Year                      114806 non-null  float64\n",
      " 17  IME-4 Count                     114806 non-null  float64\n",
      " 18  Industry Code                   114806 non-null  float64\n",
      " 19  WCIO Cause of Injury Code       114806 non-null  float64\n",
      " 20  WCIO Nature of Injury Code      114806 non-null  float64\n",
      " 21  WCIO Part Of Body Code          114806 non-null  float64\n",
      " 22  Number of Dependents            114806 non-null  float64\n",
      " 23  log_Average Weekly Wage         114806 non-null  float64\n",
      " 24  fe_Carrier Type                 114806 non-null  float64\n",
      " 25  fe_Medical Fee Region           114806 non-null  float64\n",
      " 26  fe_County of Injury             114806 non-null  float64\n",
      " 27  Age                             114806 non-null  float64\n",
      " 28  First Hearing Month             114806 non-null  float64\n",
      " 29  First Hearing Year              114806 non-null  float64\n",
      " 30  Assembly Month                  114806 non-null  float64\n",
      " 31  Assembly Year                   114806 non-null  float64\n",
      " 32  Accident Month                  114806 non-null  float64\n",
      " 33  Accident Year                   114806 non-null  float64\n",
      " 34  C-2 Month                       114806 non-null  float64\n",
      " 35  C-2 Year                        114806 non-null  float64\n",
      " 36  C-3 Month                       114806 non-null  float64\n",
      " 37  C-3 Year                        114806 non-null  float64\n",
      " 38  fe_Zip Code                     114806 non-null  float64\n",
      " 39  fe_Industry Code                114806 non-null  float64\n",
      " 40  fe_WCIO Cause of Injury Code    114806 non-null  float64\n",
      " 41  fe_WCIO Nature of Injury Code   114806 non-null  float64\n",
      " 42  fe_WCIO Part Of Body Code       114806 non-null  float64\n",
      " 43  fe_Carrier Name                 114806 non-null  float64\n",
      "dtypes: Int64(1), float64(34), int64(3), object(1), string(5)\n",
      "memory usage: 39.5+ MB\n"
     ]
    }
   ],
   "source": [
    "pr.update_status('valid')\n",
    "print(\"------------updates---------------------\")\n",
    "pr.update_casted_cols()\n",
    "print(\"------------set_casting---------------------\")\n",
    "pr.set_castings(X_valid)\n",
    "print(\"------------pipeline---------------------\")\n",
    "df_valid = pr.cast_pipeline(X_valid)\n",
    "print(\"df after cast_pipeline:\", df_valid.shape)\n",
    "print(\"------------fillna---------------------\")\n",
    "pr.update_fillna_list(df_valid)   \n",
    "df_valid = pr.fillna_pipeline(df_valid)\n",
    "print(\"df after fillna_pipeline:\", df_valid.shape)\n",
    "print(\"------------transformation---------------------\")\n",
    "pr.set_transformations(df_valid)\n",
    "df_valid = pr.transformation_pipeline(df_valid)\n",
    "print(\"df after transformation_pipeline:\", df_valid.shape)\n",
    "df_valid = pr.scaling_pipeline(df_valid)\n",
    "df_valid = df_valid.drop(columns=['Agreement Reached', 'WCB Decision'])\n",
    "\n",
    "df_valid.info()"
   ]
  },
  {
   "cell_type": "markdown",
   "metadata": {},
   "source": [
    "## feature selection"
   ]
  },
  {
   "cell_type": "code",
   "execution_count": 9,
   "metadata": {},
   "outputs": [],
   "source": [
    "num_features = df_train.select_dtypes(include=[np.number]).columns\n",
    "obj_features = df_train.select_dtypes(include=[object,'string']).columns\n"
   ]
  },
  {
   "cell_type": "code",
   "execution_count": 10,
   "metadata": {},
   "outputs": [
    {
     "data": {
      "text/plain": [
       "Index(['Carrier Name', 'Carrier Type', 'County of Injury', 'District Name',\n",
       "       'Gender', 'Medical Fee Region'],\n",
       "      dtype='object')"
      ]
     },
     "execution_count": 10,
     "metadata": {},
     "output_type": "execute_result"
    }
   ],
   "source": [
    "obj_features"
   ]
  },
  {
   "cell_type": "markdown",
   "metadata": {},
   "source": [
    "### correlation with target"
   ]
  },
  {
   "cell_type": "markdown",
   "metadata": {},
   "source": [
    "#### Linear correlation\n"
   ]
  },
  {
   "cell_type": "code",
   "execution_count": 11,
   "metadata": {},
   "outputs": [
    {
     "data": {
      "image/png": "[encoded data removed]",
      "text/plain": [
       "<Figure size 1000x1000 with 1 Axes>"
      ]
     },
     "metadata": {},
     "output_type": "display_data"
    }
   ],
   "source": [
    "corr_y = df_train[num_features].corrwith(y_train)\n",
    "corr_y = corr_y.sort_values(ascending=False)\n",
    "\n",
    "plt.figure(figsize=(10, 10))\n",
    "sns.barplot(x=corr_y.values, y=corr_y.index)\n",
    "plt.title('Linear Correlation with target variable')\n",
    "\n",
    "plt.show()"
   ]
  },
  {
   "cell_type": "markdown",
   "metadata": {},
   "source": [
    "#### entropy correlation"
   ]
  },
  {
   "cell_type": "code",
   "execution_count": null,
   "metadata": {},
   "outputs": [],
   "source": [
    "s_corr_y = []\n",
    "for col in num_features:\n",
    "    s_col = leo.two_col_entropy_corr(df_train[col], y_train)\n",
    "    s_col = log((s_col +1)/2)\n",
    "    s_corr_y.append(s_col)\n",
    "    \n",
    "s_corr_y = pd.Series(s_corr_y, index=num_features).sort_values(ascending=False)\n",
    "s_corr_y = s_corr_y.sort_values(ascending=False)\n",
    "\n",
    "plt.figure(figsize=(10, 10))\n",
    "sns.barplot(x=s_corr_y.values, y=s_corr_y.index)\n",
    "plt.title('Entropy Correlation with target variable')\n",
    "plt.show()  "
   ]
  },
  {
   "cell_type": "markdown",
   "metadata": {},
   "source": [
    "#### chi2 correlation for categorical features"
   ]
  },
  {
   "cell_type": "code",
   "execution_count": null,
   "metadata": {},
   "outputs": [],
   "source": [
    "from scipy.stats import chi2_contingency"
   ]
  },
  {
   "cell_type": "code",
   "execution_count": null,
   "metadata": {},
   "outputs": [],
   "source": [
    "def sigmoid(x, a=20):\n",
    "    return 1 / (1 + np.exp(-a * (x - 0.5)))\n",
    "\n",
    "plt.figure(figsize=(12, 8))\n",
    "x = np.linspace(0, 1, 100)\n",
    "y = sigmoid(x)\n",
    "plt.plot(x, y)\n",
    "plt.title('Sigmoid Function')\n",
    "plt.xlabel('x')"
   ]
  },
  {
   "cell_type": "code",
   "execution_count": null,
   "metadata": {},
   "outputs": [],
   "source": [
    "def chi2_feature_importance(f1, target, significance_level=0.05, log=False):\n",
    "    \"\"\"\n",
    "    Evaluate if a feature is important to predict the target using the Chi-squared test.\n",
    "\n",
    "    Parameters:\n",
    "        data (pd.DataFrame): The dataset containing the feature and target.\n",
    "        feature (str): The name of the feature column.\n",
    "        target (str): The name of the target column.\n",
    "        significance_level (float): The threshold for statistical significance (default 0.05).\n",
    "\n",
    "    Returns:\n",
    "        dict: A dictionary containing the chi-squared statistic, p-value, and whether the feature is important.\n",
    "    \"\"\"\n",
    "    # Create a contingency table\n",
    "    contingency_table = pd.crosstab(f1, target)\n",
    "\n",
    "    # Perform the Chi-squared test\n",
    "    chi2_stat, p_value, _, _ = chi2_contingency(contingency_table)\n",
    "\n",
    "    total_observations = contingency_table.sum().sum()\n",
    "    rows, cols = contingency_table.shape\n",
    "\n",
    "    cramers_v = np.sqrt(\n",
    "        chi2_stat / (total_observations * min(cols - 1, rows - 1)))\n",
    "\n",
    "    is_important = p_value < significance_level\n",
    "\n",
    "    if log:\n",
    "        if cramers_v < 0.3:\n",
    "            print(f\" {is_important} the test is not significant {cramers_v}\")\n",
    "        elif cramers_v < 0.5:\n",
    "            print(f\" {is_important} the test is weakly significant {cramers_v}\")\n",
    "        elif cramers_v < 0.7:\n",
    "            print(f\" {is_important} the test is moderately significant {cramers_v}\")\n",
    "        elif cramers_v < 1:\n",
    "            print(f\" {is_important} the test is highly significant {cramers_v}\")\n",
    "        else:\n",
    "            print(f\"the test has no sense {cramers_v}\")\n",
    "\n",
    "    # Determine if the feature is important\n",
    "    is_important = p_value < significance_level\n",
    "    return cramers_v, p_value"
   ]
  },
  {
   "cell_type": "code",
   "execution_count": null,
   "metadata": {},
   "outputs": [],
   "source": [
    "df_train[col]"
   ]
  },
  {
   "cell_type": "code",
   "execution_count": null,
   "metadata": {},
   "outputs": [],
   "source": [
    "normalized_scores = []\n",
    " \n",
    "for col in obj_features:\n",
    "    print(f\"Feature: {col}\")\n",
    "    cramers_v, p_value = chi2_feature_importance(df_train[col], y_train, log=True)\n",
    "    normalized_scores.append((1 - p_value)*sigmoid(cramers_v))\n",
    "    print(f'normalized score: {normalized_scores[-1]}')\n",
    "    print(\"-\"*50)\n",
    "\n",
    "plt.figure(figsize=(10, 10))\n",
    "sns.barplot(x=normalized_scores, y=obj_features)\n",
    "plt.title('Normalized Chi-squared Feature Importance')\n",
    "plt.show()"
   ]
  },
  {
   "cell_type": "markdown",
   "metadata": {},
   "source": [
    "#### best features level 1"
   ]
  },
  {
   "cell_type": "code",
   "execution_count": null,
   "metadata": {},
   "outputs": [],
   "source": [
    "best_lin = list((corr_y [corr_y.abs() > 0.2]).index)\n",
    "best_ent = list((s_corr_y [s_corr_y > - 0.5]).index)\n",
    "best_chi2 = list((pd.Series(normalized_scores, index=obj_features)[pd.Series(normalized_scores, index=obj_features) > 0.5]).index)"
   ]
  },
  {
   "cell_type": "code",
   "execution_count": null,
   "metadata": {},
   "outputs": [],
   "source": [
    "bestnum = set(best_lin + best_ent)\n",
    "bestnum = list(bestnum)\n",
    "bestnum.append('fe_Carrier Name')\n",
    "bestnum"
   ]
  },
  {
   "cell_type": "code",
   "execution_count": null,
   "metadata": {},
   "outputs": [],
   "source": [
    "best_chi2"
   ]
  },
  {
   "cell_type": "markdown",
   "metadata": {},
   "source": [
    "### correlation between features"
   ]
  },
  {
   "cell_type": "markdown",
   "metadata": {},
   "source": [
    "#### Linear correlation"
   ]
  },
  {
   "cell_type": "code",
   "execution_count": null,
   "metadata": {},
   "outputs": [],
   "source": [
    "# correlation between numerical features\n",
    "corr = df_train[bestnum].corr()\n",
    "#half of the matrix\n",
    "mask = np.zeros_like(corr)\n",
    "mask[np.triu_indices_from(mask)] = True\n",
    "\n",
    "plt.figure(figsize=(10, 10))\n",
    "sns.heatmap(np.abs(corr), annot=True, cmap='Blues', mask=mask)\n",
    "plt.title('Correlation Matrix')\n",
    "plt.show()\n"
   ]
  },
  {
   "cell_type": "markdown",
   "metadata": {},
   "source": [
    "#### entropy correlation"
   ]
  },
  {
   "cell_type": "code",
   "execution_count": null,
   "metadata": {},
   "outputs": [],
   "source": [
    "s_corr = leo.entropy_corr(df_train[bestnum])\n",
    "#half of the matrix\n",
    "mask = np.zeros_like(s_corr)\n",
    "mask[np.triu_indices_from(mask)] = True\n",
    "\n",
    "plt.figure(figsize=(10, 10))\n",
    "sns.heatmap(s_corr, annot=True, cmap='Blues', mask=mask)\n",
    "plt.title('Correlation Matrix')\n",
    "plt.show()"
   ]
  },
  {
   "cell_type": "markdown",
   "metadata": {},
   "source": [
    "#### best featues level 2\n"
   ]
  },
  {
   "cell_type": "code",
   "execution_count": null,
   "metadata": {},
   "outputs": [],
   "source": [
    "bestnum"
   ]
  },
  {
   "cell_type": "code",
   "execution_count": null,
   "metadata": {},
   "outputs": [],
   "source": [
    "bestnum = ['fe_Zip Code',\n",
    " 'C-3 Month',\n",
    " 'C-3 Year',\n",
    " 'fe_WCIO Cause of Injury Code',\n",
    " 'log_Average Weekly Wage',\n",
    " 'fe_WCIO Part Of Body Code',\n",
    " 'Assembly Month',\n",
    " 'First Hearing Month',\n",
    " 'fe_Carrier Name']"
   ]
  },
  {
   "cell_type": "markdown",
   "metadata": {},
   "source": [
    "### RFECV"
   ]
  },
  {
   "cell_type": "code",
   "execution_count": null,
   "metadata": {},
   "outputs": [],
   "source": [
    "#train_test_split for the best features\n",
    "X_train_big, X_train_small, y_train_big, y_train_small = train_test_split(df_train,\n",
    "                                                                          y_train,\n",
    "                                                                          test_size=0.2,\n",
    "                                                                          random_state=0,\n",
    "                                                                          stratify=y_train)\n"
   ]
  },
  {
   "cell_type": "markdown",
   "metadata": {},
   "source": [
    "#### RFECV random forest for recall"
   ]
  },
  {
   "cell_type": "code",
   "execution_count": null,
   "metadata": {},
   "outputs": [],
   "source": [
    "num_features"
   ]
  },
  {
   "cell_type": "code",
   "execution_count": null,
   "metadata": {},
   "outputs": [],
   "source": [
    "\n",
    "model = RandomForestClassifier(n_estimators=100, random_state=0)\n",
    "rfe = RFECV(model, cv=3, scoring='recall', n_jobs=-1)\n",
    "\n",
    "rfe.fit(X_train_big[num_features], y_train_big)\n",
    "\n",
    "plt.figure(figsize=(10, 6))\n",
    "plt.plot(range(1, len(rfe.cv_results_['mean_test_score']) + 1), rfe.cv_results_['mean_test_score'])\n",
    "plt.title('RFECV')\n",
    "plt.xlabel('Number of Features')\n",
    "plt.ylabel('Recall')\n",
    "plt.show()\n",
    "\n",
    "print(f'Optimal number of features: {rfe.n_features_}')\n",
    "print(f'Selected features: {df_train[num_features].columns[rfe.support_]}')"
   ]
  },
  {
   "cell_type": "markdown",
   "metadata": {},
   "source": [
    "### RFE Logistic regression for recall"
   ]
  },
  {
   "cell_type": "code",
   "execution_count": null,
   "metadata": {},
   "outputs": [],
   "source": [
    "model = LogisticRegression(max_iter=1000)\n",
    "rfe = RFECV(model, cv=3, scoring='recall', n_jobs=-1)\n",
    "\n",
    "rfe.fit(X_train_big[num_features], y_train_big)\n",
    "\n",
    "plt.figure(figsize=(10, 6))\n",
    "plt.plot(range(1, len(rfe.cv_results_['mean_test_score']) + 1), rfe.cv_results_['mean_test_score'])\n",
    "plt.title('RFECV')\n",
    "plt.xlabel('Number of Features')\n",
    "plt.ylabel('Recall')\n",
    "plt.show()\n"
   ]
  },
  {
   "cell_type": "markdown",
   "metadata": {},
   "source": [
    "# checkpoint 2"
   ]
  },
  {
   "cell_type": "code",
   "execution_count": null,
   "metadata": {},
   "outputs": [],
   "source": [
    "from sklearn.model_selection import GridSearchCV\n",
    "import xgboost as xgb\n",
    "from sklearn.metrics import confusion_matrix\n",
    "import numpy as np\n",
    "import matplotlib.pyplot as plt\n",
    "from imblearn.combine import SMOTETomek\n",
    "from sklearn.linear_model import LogisticRegression\n",
    "from sklearn.tree import DecisionTreeClassifier\n",
    "from sklearn.ensemble import RandomForestClassifier\n",
    "from sklearn.experimental import enable_hist_gradient_boosting\n",
    "from sklearn.ensemble import HistGradientBoostingClassifier\n",
    "import lightgbm\n",
    "from sklearn.metrics import accuracy_score, precision_score, recall_score, f1_score, roc_auc_score, roc_curve, confusion_matrix\n",
    "from sklearn.svm import SVC\n",
    "from sklearn.neural_network import MLPClassifier  # Import for ANN\n",
    "# import the naive bayes module\n",
    "from sklearn.naive_bayes import GaussianNB\n"
   ]
  },
  {
   "cell_type": "markdown",
   "metadata": {},
   "source": [
    "## smote and tomek"
   ]
  },
  {
   "cell_type": "code",
   "execution_count": null,
   "metadata": {},
   "outputs": [],
   "source": [
    "df_train_np = df_train[bestnum].to_numpy()\n",
    "y_train_np = y_train.to_numpy(dtype=int)"
   ]
  },
  {
   "cell_type": "code",
   "execution_count": null,
   "metadata": {},
   "outputs": [],
   "source": [
    "\n",
    "smote_tomek = SMOTETomek(sampling_strategy='auto')\n",
    "\n",
    "# Ensure y_train contains integer values\n",
    "y_train_int = y_train.round().astype('float64').to_numpy()\n",
    "# Assuming you have your feature matrix X and target variable y\n",
    "X_train_resampled, y_train_resampled = smote_tomek.fit_resample(df_train_np, y_train_np)\n",
    "df_train_resampled = pd.DataFrame(X_train_resampled, columns=bestnum)\n",
    "y_train_resampled = pd.Series(y_train_resampled)\n",
    "\n",
    "#smote = SMOTE(sampling_strategy='minority', random_state=42)\n",
    "\n",
    "print(\"Resampling completed successfully!\")"
   ]
  },
  {
   "cell_type": "code",
   "execution_count": null,
   "metadata": {},
   "outputs": [],
   "source": [
    "y_train_resampled.value_counts()"
   ]
  },
  {
   "cell_type": "code",
   "execution_count": null,
   "metadata": {},
   "outputs": [],
   "source": [
    "X_resampled_big, X_resampled_small, y_resampled_big, y_resampled_small = train_test_split(df_train_resampled,\n",
    "                                                                                            y_train_resampled,\n",
    "                                                                                            test_size=0.2,\n",
    "                                                                                            random_state=0,\n",
    "                                                                                            stratify=y_train_resampled)"
   ]
  },
  {
   "cell_type": "markdown",
   "metadata": {},
   "source": [
    "## multiple model training"
   ]
  },
  {
   "cell_type": "markdown",
   "metadata": {},
   "source": [
    "### sklearn models"
   ]
  },
  {
   "cell_type": "code",
   "execution_count": null,
   "metadata": {},
   "outputs": [],
   "source": [
    "# make grid search validation for every model in the list model_list_num\n",
    "\n",
    "model_list_num = [\n",
    "    SVC(),\n",
    "    MLPClassifier(),\n",
    "    GaussianNB(),\n",
    "    LogisticRegression(),\n",
    "    DecisionTreeClassifier(),\n",
    "    RandomForestClassifier(),\n",
    "    HistGradientBoostingClassifier()\n",
    "]\n",
    "\n",
    "model_names = ['SVC',\n",
    "               'MLPClassifier',\n",
    "               'GaussianNB',\n",
    "               'LogisticRegression',\n",
    "               'DecisionTreeClassifier',\n",
    "               'RandomForestClassifier',\n",
    "               'HistGradientBoostingClassifier'\n",
    "]\n",
    "\n",
    "\n",
    "best_params = []\n",
    "\n",
    "param_grid_logistc = {\n",
    "    'C': [0.001, 0.01, 0.1, 1, 10, 100],\n",
    "    'solver': ['liblinear']\n",
    "}\n",
    "\n",
    "param_grid_tree = {\n",
    "    'max_depth': [5, 10, 15, 20],\n",
    "    'min_samples_split': [2, 5, 10]\n",
    "}\n",
    "\n",
    "param_grid_rf = {\n",
    "    'n_estimators': [100, 200, 300],\n",
    "    'max_depth': [5, 10, 15, 20],\n",
    "    'min_samples_split': [2, 5, 10]\n",
    "}\n",
    "\n",
    "param_grid_hgb = {\n",
    "    'max_iter': [100, 200, 300],\n",
    "    'max_depth': [5, 10, 15, 20],\n",
    "    'min_samples_leaf': [2, 5, 10]\n",
    "}\n",
    "\n",
    "param_grid_svc = {\n",
    "    'C': [0.1, 1, 10],  # Common hyperparameters for SVC\n",
    "    'kernel': ['linear', 'rbf']  # Try different kernels\n",
    "}\n",
    "\n",
    "param_grid_mlp = {  # Hyperparameters for ANN (MLPClassifier)\n",
    "    'hidden_layer_sizes': [(100,), (100, 50), (100, 100)],  # Different hidden layer configurations\n",
    "    'activation': ['relu', 'tanh'],  # Experiment with activation functions\n",
    "    'solver': ['adam', 'lbfgs']  # Choose a suitable solver\n",
    "}\n",
    "\n",
    "param_grid_gnb = {  } # GaussianNB has no hyperparameters to tune\n",
    "param_list = [param_grid_svc,\n",
    "              param_grid_mlp,\n",
    "              param_grid_gnb,\n",
    "              param_grid_logistc,\n",
    "              param_grid_tree,\n",
    "              param_grid_rf,\n",
    "              param_grid_hgb]\n",
    "best_params = []\n",
    "\n",
    "tn_list = []\n",
    "fp_list = []\n",
    "fn_list = []\n",
    "tp_list = []\n",
    "\n",
    "precision_score_list = []\n",
    "\n",
    "for model, param_grid in zip(model_list_num, param_list):\n",
    "    grid_search = GridSearchCV(model, param_grid, cv=3, scoring='precision', n_jobs=-1)\n",
    "    grid_search.fit(X_resampled_big, y_resampled_big)\n",
    "    best_params.append(grid_search.best_params_)\n",
    "    print('-'*50)\n",
    "    print(model)\n",
    "    print(f\"Best parameters for {model}: {grid_search.best_params_}\")\n",
    "    print(f\"Best precision score: {grid_search.best_score_}\")\n",
    "    best_model = model.set_params(**grid_search.best_params_)\n",
    "    best_model.fit(X_train_resampled, y_train_resampled)\n",
    "    y_pred = best_model.predict(df_valid[bestnum])\n",
    "    precision_score_model = precision_score(y_valid, y_pred)\n",
    "    precision_score_list.append(precision_score_model)\n",
    "    print(f\"Recall: {recall_score(y_valid, y_pred)}\")\n",
    "    print(f\"F1: {f1_score(y_valid, y_pred)}\")\n",
    "    print(f\"ROC AUC: {roc_auc_score(y_valid, y_pred)}\")\n",
    "    cm = confusion_matrix(y_valid, y_pred)\n",
    "    print(f\"Confusion Matrix: \\n{cm}\")\n",
    "    tn, fp, fn, tp = cm.ravel()\n",
    "    \n",
    "    tn_list.append(tn)\n",
    "    fp_list.append(fp)\n",
    "    fn_list.append(fn)\n",
    "    tp_list.append(tp)\n",
    "    pr = int(precision_score_model * 100)\n",
    "    \n",
    "    print(f\"{YEQUALS}_pr{pr}_{model_names[model_list_num.index(model)]}_model\")\n",
    "    \n",
    "    #leo.report_and_save(model = best_model,\n",
    "    #                   model_name = f\"{YEQUALS}_pr{pr}_{model_names[model_list_num.index(model)]}_model\",\n",
    "    #                   y_pred = y_pred,\n",
    "    #                    y = y_valid,\n",
    "    #                    feature_list = bestnum\n",
    "    #                    )   \n",
    "                        \n",
    "                        \n",
    "\n",
    "    \n",
    "    \n",
    "    \n",
    "    \n",
    "    \n",
    "\n"
   ]
  },
  {
   "cell_type": "markdown",
   "metadata": {},
   "source": [
    "### xgboost"
   ]
  },
  {
   "cell_type": "code",
   "execution_count": null,
   "metadata": {},
   "outputs": [],
   "source": [
    "y_train_resampled\n",
    "y_resampled_big\n",
    "y_valid\n",
    "\n",
    "# run a grid search for param_xgb\n",
    "param_xgb = {\n",
    "    'max_depth': [3, 5, 7],\n",
    "    'eta': [0.1, 0.3, 0.5],\n",
    "    'objective': ['binary:logistic']\n",
    "}\n",
    "\n",
    "grid = GridSearchCV(estimator=xgb.XGBClassifier(), param_grid=param_xgb, cv=3, scoring='recall', n_jobs=-1)\n",
    "grid.fit(X_resampled_big, y_resampled_big)\n",
    "print(f\"Best parameters for XGBoost: {grid.best_params_}\")\n",
    "print(f\"Best recall score: {grid.best_score_}\")\n",
    "\n",
    "best_xgb = xgb.XGBClassifier(**grid.best_params_)\n",
    "best_xgb.fit(X_train_resampled, y_train_resampled)\n",
    "y_pred = best_xgb.predict(df_valid[bestnum])\n",
    "print(f\"Recall: {recall_score(y_valid, y_pred)}\")\n",
    "print(f\"F1: {f1_score(y_valid, y_pred)}\")\n",
    "print(f\"ROC AUC: {roc_auc_score(y_valid, y_pred)}\")\n",
    "\n",
    "cm = confusion_matrix(y_valid, y_pred)\n",
    "print(f\"Confusion Matrix: \\n{cm}\")\n",
    "\n",
    "tn, fp, fn, tp = cm.ravel()\n",
    "tn_list.append(tn)\n",
    "fp_list.append(fp)\n",
    "fn_list.append(fn)\n",
    "tp_list.append(tp)\n",
    "pr = precision_score(y_valid, y_pred)\n",
    "precision_score_list.append(pr)\n",
    "pr = int(pr * 100)\n",
    "print(f\"{YEQUALS}_pr{pr}_XGBoost_model\")\n",
    "#leo.report_and_save(model = best_xgb,\n",
    "#                   model_name = f\"{YEQUALS}_pr{pr}_XGBoost_model\",\n",
    "#                   y_pred = y_pred,\n",
    "#                    y = y_valid,\n",
    "#                    feature_list = bestnum\n",
    "#                    )\n",
    "model_names.append('XGBoost')"
   ]
  },
  {
   "cell_type": "markdown",
   "metadata": {},
   "source": [
    "### lightgbm"
   ]
  },
  {
   "cell_type": "code",
   "execution_count": null,
   "metadata": {},
   "outputs": [],
   "source": [
    "y_train_resampled\n",
    "y_resampled_big\n",
    "y_valid\n",
    "\n",
    "param_lightgbm = {\n",
    "    'max_depth': [3, 5, 7],\n",
    "    'learning_rate': [0.1, 0.3, 0.5],\n",
    "    'objective': ['binary']\n",
    "}\n",
    "\n",
    "\n",
    "\n",
    "grid = GridSearchCV(estimator=lightgbm.LGBMClassifier(), param_grid=param_lightgbm, cv=3, scoring='precision', n_jobs=-1)\n",
    "grid.fit(X_resampled_big, y_resampled_big)\n",
    "print(f\"Best parameters for LightGBM: {grid.best_params_}\")\n",
    "print(f\"Best precision score: {grid.best_score_}\")\n",
    "\n",
    "best_lightgbm = lightgbm.LGBMClassifier(**grid.best_params_)\n",
    "best_lightgbm.fit(X_train_resampled, y_train_resampled)\n",
    "y_pred = best_lightgbm.predict(df_valid[bestnum])\n",
    "print(f\"Recall: {recall_score(y_valid, y_pred)}\")\n",
    "print(f\"F1: {f1_score(y_valid, y_pred)}\")\n",
    "print(f\"ROC AUC: {roc_auc_score(y_valid, y_pred)}\")\n",
    "\n",
    "cm = confusion_matrix(y_valid, y_pred)\n",
    "print(f\"Confusion Matrix: \\n{cm}\")\n",
    "tn, fp, fn, tp = cm.ravel()\n",
    "tn_list.append(tn)\n",
    "fp_list.append(fp)\n",
    "fn_list.append(fn)\n",
    "tp_list.append(tp)\n",
    "\n",
    "pr = precision_score(y_valid, y_pred)\n",
    "precision_score_list.append(pr)\n",
    "pr = int(pr * 100)\n",
    "print(f\"{YEQUALS}_pr{pr}_LightGBM_model\")\n",
    "\n",
    "#leo.report_and_save(model = best_lightgbm,\n",
    "#                   model_name = f\"{YEQUALS}_pr{pr}_LightGBM_model\",\n",
    "#                   y_pred = y_pred,\n",
    "#                   y = y_valid,\n",
    "#                   feature_list = bestnum\n",
    "#                   )\n",
    "model_names.append('LightGBM')"
   ]
  },
  {
   "cell_type": "code",
   "execution_count": null,
   "metadata": {},
   "outputs": [],
   "source": [
    "fig, ax = plt.subplots()\n",
    "width = 0.3 # width of bar\n",
    "x = np.arange(len(model_names))\n",
    "ax.bar(x, tn_list, width, color='b', label='True Negative')\n",
    "ax.bar(x + width, tp_list, width, color='g', label='True Positive')\n",
    "# rotate the tick labels for better visibility\n",
    "ax.set_xticklabels(model_names, rotation = 80)\n",
    "ax.set_ylabel('Scores')\n",
    "ax.set_title('Scores by type')\n",
    "\n",
    "ax.set_xticks(x + width)\n",
    "ax.set_xticklabels(model_names)\n",
    "ax.legend()\n",
    "plt.show()"
   ]
  },
  {
   "cell_type": "markdown",
   "metadata": {},
   "source": [
    "# checkpoint 3"
   ]
  },
  {
   "cell_type": "markdown",
   "metadata": {},
   "source": [
    "## recursive feature elimination"
   ]
  },
  {
   "cell_type": "markdown",
   "metadata": {},
   "source": [
    "# checkpoint 4"
   ]
  }
 ],
 "metadata": {
  "kernelspec": {
   "display_name": "ML_env",
   "language": "python",
   "name": "python3"
  },
  "language_info": {
   "codemirror_mode": {
    "name": "ipython",
    "version": 3
   },
   "file_extension": ".py",
   "mimetype": "text/x-python",
   "name": "python",
   "nbconvert_exporter": "python",
   "pygments_lexer": "ipython3",
   "version": "3.12.7"
  }
 },
 "nbformat": 4,
 "nbformat_minor": 2
}
