{
 "cells": [
  {
   "cell_type": "code",
   "execution_count": 1,
   "metadata": {},
   "outputs": [],
   "source": [
    "import pandas as pd\n",
    "import numpy as np\n",
    "import matplotlib.pyplot as plt\n",
    "import seaborn as sns   "
   ]
  },
  {
   "cell_type": "code",
   "execution_count": 2,
   "metadata": {},
   "outputs": [
    {
     "name": "stderr",
     "output_type": "stream",
     "text": [
      "/var/folders/n8/08b2nd114jdfnsydb_4mj4fw0000gn/T/ipykernel_73006/722739407.py:1: DtypeWarning: Columns (29) have mixed types. Specify dtype option on import or set low_memory=False.\n",
      "  train = pd.read_csv('/Users/leonardodicaterina/Desktop/NovaIMS/MachineLearning/Machine_Learning_G19/Data/train_data.csv')\n"
     ]
    },
    {
     "name": "stdout",
     "output_type": "stream",
     "text": [
      "<class 'pandas.core.frame.DataFrame'>\n",
      "RangeIndex: 593471 entries, 0 to 593470\n",
      "Data columns (total 33 columns):\n",
      " #   Column                              Non-Null Count   Dtype  \n",
      "---  ------                              --------------   -----  \n",
      " 0   Accident Date                       570337 non-null  object \n",
      " 1   Age at Injury                       574026 non-null  float64\n",
      " 2   Alternative Dispute Resolution      574026 non-null  object \n",
      " 3   Assembly Date                       593471 non-null  object \n",
      " 4   Attorney/Representative             574026 non-null  object \n",
      " 5   Average Weekly Wage                 545375 non-null  float64\n",
      " 6   Birth Year                          544948 non-null  float64\n",
      " 7   C-2 Date                            559466 non-null  object \n",
      " 8   C-3 Date                            187245 non-null  object \n",
      " 9   Carrier Name                        574026 non-null  object \n",
      " 10  Carrier Type                        574026 non-null  object \n",
      " 11  Claim Identifier                    593471 non-null  int64  \n",
      " 12  Claim Injury Type                   574026 non-null  object \n",
      " 13  County of Injury                    574026 non-null  object \n",
      " 14  COVID-19 Indicator                  574026 non-null  object \n",
      " 15  District Name                       574026 non-null  object \n",
      " 16  First Hearing Date                  150798 non-null  object \n",
      " 17  Gender                              574026 non-null  object \n",
      " 18  IME-4 Count                         132803 non-null  float64\n",
      " 19  Industry Code                       564068 non-null  float64\n",
      " 20  Industry Code Description           564068 non-null  object \n",
      " 21  Medical Fee Region                  574026 non-null  object \n",
      " 22  OIICS Nature of Injury Description  0 non-null       float64\n",
      " 23  WCIO Cause of Injury Code           558386 non-null  float64\n",
      " 24  WCIO Cause of Injury Description    558386 non-null  object \n",
      " 25  WCIO Nature of Injury Code          558369 non-null  float64\n",
      " 26  WCIO Nature of Injury Description   558369 non-null  object \n",
      " 27  WCIO Part Of Body Code              556944 non-null  float64\n",
      " 28  WCIO Part Of Body Description       556944 non-null  object \n",
      " 29  Zip Code                            545389 non-null  object \n",
      " 30  Agreement Reached                   574026 non-null  float64\n",
      " 31  WCB Decision                        574026 non-null  object \n",
      " 32  Number of Dependents                574026 non-null  float64\n",
      "dtypes: float64(11), int64(1), object(21)\n",
      "memory usage: 149.4+ MB\n"
     ]
    }
   ],
   "source": [
    "train = pd.read_csv('/Users/leonardodicaterina/Desktop/NovaIMS/MachineLearning/Machine_Learning_G19/Data/train_data.csv')\n",
    "test = pd.read_csv('/Users/leonardodicaterina/Desktop/NovaIMS/MachineLearning/Machine_Learning_G19/Data/test_data.csv')\n",
    "\n",
    "train.info()\n"
   ]
  },
  {
   "cell_type": "code",
   "execution_count": 3,
   "metadata": {},
   "outputs": [],
   "source": [
    "num_col = train.select_dtypes(include=np.number).columns"
   ]
  },
  {
   "cell_type": "markdown",
   "metadata": {},
   "source": [
    "## Claim Identifier"
   ]
  },
  {
   "cell_type": "code",
   "execution_count": 4,
   "metadata": {},
   "outputs": [],
   "source": [
    "num_col = num_col.drop('Claim Identifier')\n",
    "PrimarKey = 'Claim Identifier'\n"
   ]
  },
  {
   "cell_type": "markdown",
   "metadata": {},
   "source": [
    "good, there are no null values"
   ]
  },
  {
   "cell_type": "code",
   "execution_count": 5,
   "metadata": {},
   "outputs": [
    {
     "data": {
      "text/plain": [
       "1"
      ]
     },
     "execution_count": 5,
     "metadata": {},
     "output_type": "execute_result"
    }
   ],
   "source": [
    "x=train[PrimarKey].value_counts()\n",
    "repeatedId = x[x>1] \n",
    "len(repeatedId) "
   ]
  },
  {
   "cell_type": "markdown",
   "metadata": {},
   "source": [
    "there is a repeated value"
   ]
  },
  {
   "cell_type": "code",
   "execution_count": 6,
   "metadata": {},
   "outputs": [],
   "source": [
    "repetitions = train[train[PrimarKey] == repeatedId.index[0]]\n",
    "repetitionsIndexes = repetitions.index"
   ]
  },
  {
   "cell_type": "code",
   "execution_count": 7,
   "metadata": {},
   "outputs": [
    {
     "data": {
      "text/html": [
       "<div>\n",
       "<style scoped>\n",
       "    .dataframe tbody tr th:only-of-type {\n",
       "        vertical-align: middle;\n",
       "    }\n",
       "\n",
       "    .dataframe tbody tr th {\n",
       "        vertical-align: top;\n",
       "    }\n",
       "\n",
       "    .dataframe thead th {\n",
       "        text-align: right;\n",
       "    }\n",
       "</style>\n",
       "<table border=\"1\" class=\"dataframe\">\n",
       "  <thead>\n",
       "    <tr style=\"text-align: right;\">\n",
       "      <th></th>\n",
       "      <th>Accident Date</th>\n",
       "      <th>Age at Injury</th>\n",
       "      <th>Alternative Dispute Resolution</th>\n",
       "      <th>Assembly Date</th>\n",
       "      <th>Attorney/Representative</th>\n",
       "      <th>Average Weekly Wage</th>\n",
       "      <th>Birth Year</th>\n",
       "      <th>C-2 Date</th>\n",
       "      <th>C-3 Date</th>\n",
       "      <th>Carrier Name</th>\n",
       "      <th>...</th>\n",
       "      <th>WCIO Cause of Injury Code</th>\n",
       "      <th>WCIO Cause of Injury Description</th>\n",
       "      <th>WCIO Nature of Injury Code</th>\n",
       "      <th>WCIO Nature of Injury Description</th>\n",
       "      <th>WCIO Part Of Body Code</th>\n",
       "      <th>WCIO Part Of Body Description</th>\n",
       "      <th>Zip Code</th>\n",
       "      <th>Agreement Reached</th>\n",
       "      <th>WCB Decision</th>\n",
       "      <th>Number of Dependents</th>\n",
       "    </tr>\n",
       "  </thead>\n",
       "  <tbody>\n",
       "    <tr>\n",
       "      <th>257901</th>\n",
       "      <td>NaN</td>\n",
       "      <td>NaN</td>\n",
       "      <td>NaN</td>\n",
       "      <td>2021-05-21</td>\n",
       "      <td>NaN</td>\n",
       "      <td>NaN</td>\n",
       "      <td>NaN</td>\n",
       "      <td>NaN</td>\n",
       "      <td>NaN</td>\n",
       "      <td>NaN</td>\n",
       "      <td>...</td>\n",
       "      <td>NaN</td>\n",
       "      <td>NaN</td>\n",
       "      <td>NaN</td>\n",
       "      <td>NaN</td>\n",
       "      <td>NaN</td>\n",
       "      <td>NaN</td>\n",
       "      <td>NaN</td>\n",
       "      <td>NaN</td>\n",
       "      <td>NaN</td>\n",
       "      <td>NaN</td>\n",
       "    </tr>\n",
       "    <tr>\n",
       "      <th>526445</th>\n",
       "      <td>NaN</td>\n",
       "      <td>NaN</td>\n",
       "      <td>NaN</td>\n",
       "      <td>2022-09-05</td>\n",
       "      <td>NaN</td>\n",
       "      <td>NaN</td>\n",
       "      <td>NaN</td>\n",
       "      <td>NaN</td>\n",
       "      <td>NaN</td>\n",
       "      <td>NaN</td>\n",
       "      <td>...</td>\n",
       "      <td>NaN</td>\n",
       "      <td>NaN</td>\n",
       "      <td>NaN</td>\n",
       "      <td>NaN</td>\n",
       "      <td>NaN</td>\n",
       "      <td>NaN</td>\n",
       "      <td>NaN</td>\n",
       "      <td>NaN</td>\n",
       "      <td>NaN</td>\n",
       "      <td>NaN</td>\n",
       "    </tr>\n",
       "  </tbody>\n",
       "</table>\n",
       "<p>2 rows × 33 columns</p>\n",
       "</div>"
      ],
      "text/plain": [
       "       Accident Date  Age at Injury Alternative Dispute Resolution  \\\n",
       "257901           NaN            NaN                            NaN   \n",
       "526445           NaN            NaN                            NaN   \n",
       "\n",
       "       Assembly Date Attorney/Representative  Average Weekly Wage  Birth Year  \\\n",
       "257901    2021-05-21                     NaN                  NaN         NaN   \n",
       "526445    2022-09-05                     NaN                  NaN         NaN   \n",
       "\n",
       "       C-2 Date C-3 Date Carrier Name  ... WCIO Cause of Injury Code  \\\n",
       "257901      NaN      NaN          NaN  ...                       NaN   \n",
       "526445      NaN      NaN          NaN  ...                       NaN   \n",
       "\n",
       "        WCIO Cause of Injury Description WCIO Nature of Injury Code  \\\n",
       "257901                               NaN                        NaN   \n",
       "526445                               NaN                        NaN   \n",
       "\n",
       "       WCIO Nature of Injury Description WCIO Part Of Body Code  \\\n",
       "257901                               NaN                    NaN   \n",
       "526445                               NaN                    NaN   \n",
       "\n",
       "       WCIO Part Of Body Description Zip Code Agreement Reached  WCB Decision  \\\n",
       "257901                           NaN      NaN               NaN           NaN   \n",
       "526445                           NaN      NaN               NaN           NaN   \n",
       "\n",
       "        Number of Dependents  \n",
       "257901                   NaN  \n",
       "526445                   NaN  \n",
       "\n",
       "[2 rows x 33 columns]"
      ]
     },
     "execution_count": 7,
     "metadata": {},
     "output_type": "execute_result"
    }
   ],
   "source": [
    "repetitions"
   ]
  },
  {
   "cell_type": "code",
   "execution_count": 8,
   "metadata": {},
   "outputs": [],
   "source": [
    "def compare_rows(df_):\n",
    "    nulls = []\n",
    "    differences = []\n",
    "    for col in df_.columns:\n",
    "        if df_[col].isnull().sum() == len(df_):\n",
    "            nulls.append(col)\n",
    "        if len(df_[col].value_counts()) == len(df_):\n",
    "            differences.append(col)\n",
    "    return nulls, differences\n",
    "\n",
    "nulls, differences = compare_rows(repetitions)\n"
   ]
  },
  {
   "cell_type": "code",
   "execution_count": 9,
   "metadata": {},
   "outputs": [
    {
     "data": {
      "text/html": [
       "<div>\n",
       "<style scoped>\n",
       "    .dataframe tbody tr th:only-of-type {\n",
       "        vertical-align: middle;\n",
       "    }\n",
       "\n",
       "    .dataframe tbody tr th {\n",
       "        vertical-align: top;\n",
       "    }\n",
       "\n",
       "    .dataframe thead th {\n",
       "        text-align: right;\n",
       "    }\n",
       "</style>\n",
       "<table border=\"1\" class=\"dataframe\">\n",
       "  <thead>\n",
       "    <tr style=\"text-align: right;\">\n",
       "      <th></th>\n",
       "      <th>Assembly Date</th>\n",
       "    </tr>\n",
       "  </thead>\n",
       "  <tbody>\n",
       "    <tr>\n",
       "      <th>257901</th>\n",
       "      <td>2021-05-21</td>\n",
       "    </tr>\n",
       "    <tr>\n",
       "      <th>526445</th>\n",
       "      <td>2022-09-05</td>\n",
       "    </tr>\n",
       "  </tbody>\n",
       "</table>\n",
       "</div>"
      ],
      "text/plain": [
       "       Assembly Date\n",
       "257901    2021-05-21\n",
       "526445    2022-09-05"
      ]
     },
     "execution_count": 9,
     "metadata": {},
     "output_type": "execute_result"
    }
   ],
   "source": [
    "repetitions[differences]"
   ]
  },
  {
   "cell_type": "code",
   "execution_count": 10,
   "metadata": {},
   "outputs": [
    {
     "data": {
      "text/html": [
       "<div>\n",
       "<style scoped>\n",
       "    .dataframe tbody tr th:only-of-type {\n",
       "        vertical-align: middle;\n",
       "    }\n",
       "\n",
       "    .dataframe tbody tr th {\n",
       "        vertical-align: top;\n",
       "    }\n",
       "\n",
       "    .dataframe thead th {\n",
       "        text-align: right;\n",
       "    }\n",
       "</style>\n",
       "<table border=\"1\" class=\"dataframe\">\n",
       "  <thead>\n",
       "    <tr style=\"text-align: right;\">\n",
       "      <th></th>\n",
       "      <th>Accident Date</th>\n",
       "      <th>Age at Injury</th>\n",
       "      <th>Alternative Dispute Resolution</th>\n",
       "      <th>Attorney/Representative</th>\n",
       "      <th>Average Weekly Wage</th>\n",
       "      <th>Birth Year</th>\n",
       "      <th>C-2 Date</th>\n",
       "      <th>C-3 Date</th>\n",
       "      <th>Carrier Name</th>\n",
       "      <th>Carrier Type</th>\n",
       "      <th>...</th>\n",
       "      <th>WCIO Cause of Injury Code</th>\n",
       "      <th>WCIO Cause of Injury Description</th>\n",
       "      <th>WCIO Nature of Injury Code</th>\n",
       "      <th>WCIO Nature of Injury Description</th>\n",
       "      <th>WCIO Part Of Body Code</th>\n",
       "      <th>WCIO Part Of Body Description</th>\n",
       "      <th>Zip Code</th>\n",
       "      <th>Agreement Reached</th>\n",
       "      <th>WCB Decision</th>\n",
       "      <th>Number of Dependents</th>\n",
       "    </tr>\n",
       "  </thead>\n",
       "  <tbody>\n",
       "    <tr>\n",
       "      <th>257901</th>\n",
       "      <td>NaN</td>\n",
       "      <td>NaN</td>\n",
       "      <td>NaN</td>\n",
       "      <td>NaN</td>\n",
       "      <td>NaN</td>\n",
       "      <td>NaN</td>\n",
       "      <td>NaN</td>\n",
       "      <td>NaN</td>\n",
       "      <td>NaN</td>\n",
       "      <td>NaN</td>\n",
       "      <td>...</td>\n",
       "      <td>NaN</td>\n",
       "      <td>NaN</td>\n",
       "      <td>NaN</td>\n",
       "      <td>NaN</td>\n",
       "      <td>NaN</td>\n",
       "      <td>NaN</td>\n",
       "      <td>NaN</td>\n",
       "      <td>NaN</td>\n",
       "      <td>NaN</td>\n",
       "      <td>NaN</td>\n",
       "    </tr>\n",
       "    <tr>\n",
       "      <th>526445</th>\n",
       "      <td>NaN</td>\n",
       "      <td>NaN</td>\n",
       "      <td>NaN</td>\n",
       "      <td>NaN</td>\n",
       "      <td>NaN</td>\n",
       "      <td>NaN</td>\n",
       "      <td>NaN</td>\n",
       "      <td>NaN</td>\n",
       "      <td>NaN</td>\n",
       "      <td>NaN</td>\n",
       "      <td>...</td>\n",
       "      <td>NaN</td>\n",
       "      <td>NaN</td>\n",
       "      <td>NaN</td>\n",
       "      <td>NaN</td>\n",
       "      <td>NaN</td>\n",
       "      <td>NaN</td>\n",
       "      <td>NaN</td>\n",
       "      <td>NaN</td>\n",
       "      <td>NaN</td>\n",
       "      <td>NaN</td>\n",
       "    </tr>\n",
       "  </tbody>\n",
       "</table>\n",
       "<p>2 rows × 31 columns</p>\n",
       "</div>"
      ],
      "text/plain": [
       "       Accident Date  Age at Injury Alternative Dispute Resolution  \\\n",
       "257901           NaN            NaN                            NaN   \n",
       "526445           NaN            NaN                            NaN   \n",
       "\n",
       "       Attorney/Representative  Average Weekly Wage  Birth Year C-2 Date  \\\n",
       "257901                     NaN                  NaN         NaN      NaN   \n",
       "526445                     NaN                  NaN         NaN      NaN   \n",
       "\n",
       "       C-3 Date Carrier Name Carrier Type  ... WCIO Cause of Injury Code  \\\n",
       "257901      NaN          NaN          NaN  ...                       NaN   \n",
       "526445      NaN          NaN          NaN  ...                       NaN   \n",
       "\n",
       "       WCIO Cause of Injury Description WCIO Nature of Injury Code  \\\n",
       "257901                              NaN                        NaN   \n",
       "526445                              NaN                        NaN   \n",
       "\n",
       "       WCIO Nature of Injury Description WCIO Part Of Body Code  \\\n",
       "257901                               NaN                    NaN   \n",
       "526445                               NaN                    NaN   \n",
       "\n",
       "       WCIO Part Of Body Description  Zip Code  Agreement Reached  \\\n",
       "257901                           NaN       NaN                NaN   \n",
       "526445                           NaN       NaN                NaN   \n",
       "\n",
       "       WCB Decision Number of Dependents  \n",
       "257901          NaN                  NaN  \n",
       "526445          NaN                  NaN  \n",
       "\n",
       "[2 rows x 31 columns]"
      ]
     },
     "execution_count": 10,
     "metadata": {},
     "output_type": "execute_result"
    }
   ],
   "source": [
    "repetitions[nulls]"
   ]
  },
  {
   "cell_type": "code",
   "execution_count": 11,
   "metadata": {},
   "outputs": [],
   "source": [
    "#delete rows with index sored in repetitionsIndexes\n",
    "train.drop(repetitionsIndexes, inplace=True)\n"
   ]
  },
  {
   "cell_type": "markdown",
   "metadata": {},
   "source": [
    "## Other Codes\n"
   ]
  },
  {
   "cell_type": "code",
   "execution_count": 12,
   "metadata": {},
   "outputs": [
    {
     "data": {
      "text/html": [
       "<div>\n",
       "<style scoped>\n",
       "    .dataframe tbody tr th:only-of-type {\n",
       "        vertical-align: middle;\n",
       "    }\n",
       "\n",
       "    .dataframe tbody tr th {\n",
       "        vertical-align: top;\n",
       "    }\n",
       "\n",
       "    .dataframe thead th {\n",
       "        text-align: right;\n",
       "    }\n",
       "</style>\n",
       "<table border=\"1\" class=\"dataframe\">\n",
       "  <thead>\n",
       "    <tr style=\"text-align: right;\">\n",
       "      <th></th>\n",
       "      <th>Column</th>\n",
       "      <th>Unique Values</th>\n",
       "      <th>NaN Values</th>\n",
       "      <th>Percentage NaN</th>\n",
       "    </tr>\n",
       "  </thead>\n",
       "  <tbody>\n",
       "    <tr>\n",
       "      <th>0</th>\n",
       "      <td>Industry Code</td>\n",
       "      <td>25</td>\n",
       "      <td>29401</td>\n",
       "      <td>4.954092</td>\n",
       "    </tr>\n",
       "    <tr>\n",
       "      <th>1</th>\n",
       "      <td>Industry Code Description</td>\n",
       "      <td>21</td>\n",
       "      <td>29401</td>\n",
       "      <td>4.954092</td>\n",
       "    </tr>\n",
       "    <tr>\n",
       "      <th>2</th>\n",
       "      <td>WCIO Cause of Injury Code</td>\n",
       "      <td>78</td>\n",
       "      <td>35083</td>\n",
       "      <td>5.911513</td>\n",
       "    </tr>\n",
       "    <tr>\n",
       "      <th>3</th>\n",
       "      <td>WCIO Nature of Injury Code</td>\n",
       "      <td>57</td>\n",
       "      <td>35100</td>\n",
       "      <td>5.914378</td>\n",
       "    </tr>\n",
       "    <tr>\n",
       "      <th>4</th>\n",
       "      <td>WCIO Part Of Body Code</td>\n",
       "      <td>58</td>\n",
       "      <td>36525</td>\n",
       "      <td>6.154492</td>\n",
       "    </tr>\n",
       "    <tr>\n",
       "      <th>5</th>\n",
       "      <td>Zip Code</td>\n",
       "      <td>10061</td>\n",
       "      <td>48080</td>\n",
       "      <td>8.101518</td>\n",
       "    </tr>\n",
       "  </tbody>\n",
       "</table>\n",
       "</div>"
      ],
      "text/plain": [
       "                       Column  Unique Values  NaN Values  Percentage NaN\n",
       "0               Industry Code             25       29401        4.954092\n",
       "1   Industry Code Description             21       29401        4.954092\n",
       "2   WCIO Cause of Injury Code             78       35083        5.911513\n",
       "3  WCIO Nature of Injury Code             57       35100        5.914378\n",
       "4      WCIO Part Of Body Code             58       36525        6.154492\n",
       "5                    Zip Code          10061       48080        8.101518"
      ]
     },
     "execution_count": 12,
     "metadata": {},
     "output_type": "execute_result"
    }
   ],
   "source": [
    "# choose all the columns that have the name 'Code' in it\n",
    "code_col = [col for col in train.columns if 'Code' in col]\n",
    "code_col_desc = []\n",
    "for col in code_col:\n",
    "    n_ind = len(train[col].unique())\n",
    "    n_nan = train[col].isnull().sum()\n",
    "    perc_nan = n_nan/len(train[col])*100\n",
    "    code_col_desc.append((col, n_ind, n_nan, perc_nan))\n",
    "\n",
    "code_col_desc = pd.DataFrame(code_col_desc, columns=['Column', 'Unique Values', 'NaN Values', 'Percentage NaN'])\n",
    "code_col_desc\n",
    "\n"
   ]
  },
  {
   "cell_type": "code",
   "execution_count": 13,
   "metadata": {},
   "outputs": [],
   "source": [
    "code_col.append(PrimarKey)\n",
    "for col in code_col:\n",
    "    train[col] = train[col].astype('category')"
   ]
  },
  {
   "cell_type": "markdown",
   "metadata": {},
   "source": [
    "this columns can be transformed in strings as they are categorical"
   ]
  },
  {
   "cell_type": "code",
   "execution_count": 14,
   "metadata": {},
   "outputs": [],
   "source": [
    "#remove the code_clo form num_col\n",
    "num_col = [col for col in num_col if col not in code_col]"
   ]
  },
  {
   "cell_type": "code",
   "execution_count": 15,
   "metadata": {},
   "outputs": [
    {
     "data": {
      "text/plain": [
       "['Age at Injury',\n",
       " 'Average Weekly Wage',\n",
       " 'Birth Year',\n",
       " 'IME-4 Count',\n",
       " 'OIICS Nature of Injury Description',\n",
       " 'Agreement Reached',\n",
       " 'Number of Dependents']"
      ]
     },
     "execution_count": 15,
     "metadata": {},
     "output_type": "execute_result"
    }
   ],
   "source": [
    "num_col"
   ]
  },
  {
   "cell_type": "markdown",
   "metadata": {},
   "source": [
    "## Scalar values"
   ]
  },
  {
   "cell_type": "markdown",
   "metadata": {},
   "source": [
    "## Age at Injury"
   ]
  },
  {
   "cell_type": "code",
   "execution_count": 16,
   "metadata": {},
   "outputs": [],
   "source": [
    "ageAtInjury = train[\"Age at Injury\"].value_counts().sort_index()\n",
    "maxAge = train[\"Age at Injury\"].max()\n",
    "minAge = train[\"Age at Injury\"].min()"
   ]
  },
  {
   "cell_type": "code",
   "execution_count": 17,
   "metadata": {},
   "outputs": [
    {
     "name": "stdout",
     "output_type": "stream",
     "text": [
      "Number of NaN values in Age at Injury:  19443 \n",
      "over a total of  593469 values \n",
      "which is equal to  3.2761610126223943 % of the total values\n"
     ]
    }
   ],
   "source": [
    "#count nan values in ageAtInjury\n",
    "count = train[\"Age at Injury\"].isnull().sum()\n",
    "print(\"Number of NaN values in Age at Injury: \", count,\n",
    "      \"\\nover a total of \", len(train), \"values\",\n",
    "      \"\\nwhich is equal to \", count/len(train)*100, \"% of the total values\")"
   ]
  },
  {
   "cell_type": "code",
   "execution_count": 18,
   "metadata": {},
   "outputs": [
    {
     "data": {
      "image/png": "[encoded data removed]",
      "text/plain": [
       "<Figure size 1000x600 with 1 Axes>"
      ]
     },
     "metadata": {},
     "output_type": "display_data"
    }
   ],
   "source": [
    "ageAtInjury.plot(kind='bar', figsize=(10, 6), color='blue', zorder=2, width=0.7)\n",
    "plt.xticks(np.arange(minAge, maxAge, 10))\n",
    "plt.title('Age at Injury', fontsize=20)\n",
    "plt.xlabel('Age at Injury', fontsize=10)\n",
    "plt.ylabel('Count', fontsize=15)\n",
    "plt.xticks(rotation=0, fontsize=5)\n",
    "plt.yticks(fontsize=12)\n",
    "plt.grid(axis='y', linestyle='--', zorder=1)\n",
    "\n",
    "\n"
   ]
  },
  {
   "cell_type": "markdown",
   "metadata": {},
   "source": [
    "## Average Weekly wage"
   ]
  },
  {
   "cell_type": "code",
   "execution_count": 19,
   "metadata": {},
   "outputs": [
    {
     "name": "stdout",
     "output_type": "stream",
     "text": [
      "Number of NaN values in Average Weekly Wage:  48094 \n",
      "max value:  2828079.0 \n",
      "min value:  0.0\n"
     ]
    }
   ],
   "source": [
    "avgWeelyWage = train[\"Average Weekly Wage\"].value_counts().sort_index()\n",
    "maxWeeklyWage = train[\"Average Weekly Wage\"].max()\n",
    "minWeeklyWage = train[\"Average Weekly Wage\"].min()\n",
    "\n",
    "print(\"Number of NaN values in Average Weekly Wage: \", train[\"Average Weekly Wage\"].isnull().sum(),\n",
    "        \"\\nmax value: \", maxWeeklyWage,\n",
    "        \"\\nmin value: \", minWeeklyWage)"
   ]
  },
  {
   "cell_type": "markdown",
   "metadata": {},
   "source": [
    "the values are very high and computationally complex, lett's scale them down with a log"
   ]
  },
  {
   "cell_type": "code",
   "execution_count": 20,
   "metadata": {},
   "outputs": [],
   "source": [
    "train[\"log Average Weekly Wage\"] = np.log(train[\"Average Weekly Wage\"]+1) # +1 to avoid log(0) as the minimum value is 0"
   ]
  },
  {
   "cell_type": "code",
   "execution_count": 21,
   "metadata": {},
   "outputs": [
    {
     "data": {
      "text/plain": [
       "<Axes: ylabel='Frequency'>"
      ]
     },
     "execution_count": 21,
     "metadata": {},
     "output_type": "execute_result"
    },
    {
     "data": {
      "image/png": "[encoded data removed]",
      "text/plain": [
       "<Figure size 1000x600 with 1 Axes>"
      ]
     },
     "metadata": {},
     "output_type": "display_data"
    }
   ],
   "source": [
    "train[\"log Average Weekly Wage\"].plot(kind='hist', figsize=(10, 6), color='blue', zorder=2, bins=50)"
   ]
  },
  {
   "cell_type": "code",
   "execution_count": 22,
   "metadata": {},
   "outputs": [
    {
     "name": "stdout",
     "output_type": "stream",
     "text": [
      "Number of NaN values in Average Weekly Wage:  48094 over a total of  593469 values which is equal to  8.103877371859355 % of the total values\n"
     ]
    }
   ],
   "source": [
    "count = train[\"log Average Weekly Wage\"].isnull().sum()\n",
    "print(\"Number of NaN values in Average Weekly Wage: \", count,\n",
    "      \"over a total of \", len(train), \"values\",\n",
    "      \"which is equal to \", count/len(train)*100, \"% of the total values\")\n"
   ]
  },
  {
   "cell_type": "code",
   "execution_count": 23,
   "metadata": {},
   "outputs": [],
   "source": [
    "num_col.append(\"log Average Weekly Wage\")\n",
    "num_col.remove(\"Average Weekly Wage\")"
   ]
  },
  {
   "cell_type": "markdown",
   "metadata": {},
   "source": [
    "## IME-4 Count"
   ]
  },
  {
   "cell_type": "code",
   "execution_count": 24,
   "metadata": {},
   "outputs": [
    {
     "name": "stdout",
     "output_type": "stream",
     "text": [
      "Number of NaN values in IME-4 Count:  460666 \n",
      "max value:  73.0 \n",
      "min value:  1.0 \n",
      "mean value:  3.20733718364796\n"
     ]
    }
   ],
   "source": [
    "IME4Max = train['IME-4 Count'].max()\n",
    "IME4Min = train['IME-4 Count'].min()\n",
    "IME4Mean = train['IME-4 Count'].mean()\n",
    "\n",
    "print(\"Number of NaN values in IME-4 Count: \", train['IME-4 Count'].isnull().sum(),\n",
    "        \"\\nmax value: \", IME4Max,\n",
    "        \"\\nmin value: \", IME4Min,\n",
    "        \"\\nmean value: \", IME4Mean)"
   ]
  },
  {
   "cell_type": "code",
   "execution_count": 25,
   "metadata": {},
   "outputs": [
    {
     "data": {
      "text/plain": [
       "77.62258854295675"
      ]
     },
     "execution_count": 25,
     "metadata": {},
     "output_type": "execute_result"
    }
   ],
   "source": [
    "float(train['IME-4 Count'].isnull().sum()/len(train['IME-4 Count'])*100)\n"
   ]
  },
  {
   "cell_type": "markdown",
   "metadata": {},
   "source": [
    "77 percent of values are null, fishy probably they are related to something"
   ]
  },
  {
   "cell_type": "code",
   "execution_count": 26,
   "metadata": {},
   "outputs": [
    {
     "name": "stderr",
     "output_type": "stream",
     "text": [
      "/var/folders/n8/08b2nd114jdfnsydb_4mj4fw0000gn/T/ipykernel_73006/1907305221.py:1: UserWarning: Pandas doesn't allow columns to be created via a new attribute name - see https://pandas.pydata.org/pandas-docs/stable/indexing.html#attribute-access\n",
      "  train.dropcolumns = ['IME-4 Count']\n"
     ]
    }
   ],
   "source": [
    "train.dropcolumns = ['IME-4 Count']"
   ]
  },
  {
   "cell_type": "code",
   "execution_count": 27,
   "metadata": {},
   "outputs": [
    {
     "name": "stdout",
     "output_type": "stream",
     "text": [
      "<class 'pandas.core.frame.DataFrame'>\n",
      "Index: 593469 entries, 0 to 593470\n",
      "Data columns (total 34 columns):\n",
      " #   Column                              Non-Null Count   Dtype   \n",
      "---  ------                              --------------   -----   \n",
      " 0   Accident Date                       570337 non-null  object  \n",
      " 1   Age at Injury                       574026 non-null  float64 \n",
      " 2   Alternative Dispute Resolution      574026 non-null  object  \n",
      " 3   Assembly Date                       593469 non-null  object  \n",
      " 4   Attorney/Representative             574026 non-null  object  \n",
      " 5   Average Weekly Wage                 545375 non-null  float64 \n",
      " 6   Birth Year                          544948 non-null  float64 \n",
      " 7   C-2 Date                            559466 non-null  object  \n",
      " 8   C-3 Date                            187245 non-null  object  \n",
      " 9   Carrier Name                        574026 non-null  object  \n",
      " 10  Carrier Type                        574026 non-null  object  \n",
      " 11  Claim Identifier                    593469 non-null  category\n",
      " 12  Claim Injury Type                   574026 non-null  object  \n",
      " 13  County of Injury                    574026 non-null  object  \n",
      " 14  COVID-19 Indicator                  574026 non-null  object  \n",
      " 15  District Name                       574026 non-null  object  \n",
      " 16  First Hearing Date                  150798 non-null  object  \n",
      " 17  Gender                              574026 non-null  object  \n",
      " 18  IME-4 Count                         132803 non-null  float64 \n",
      " 19  Industry Code                       564068 non-null  category\n",
      " 20  Industry Code Description           564068 non-null  category\n",
      " 21  Medical Fee Region                  574026 non-null  object  \n",
      " 22  OIICS Nature of Injury Description  0 non-null       float64 \n",
      " 23  WCIO Cause of Injury Code           558386 non-null  category\n",
      " 24  WCIO Cause of Injury Description    558386 non-null  object  \n",
      " 25  WCIO Nature of Injury Code          558369 non-null  category\n",
      " 26  WCIO Nature of Injury Description   558369 non-null  object  \n",
      " 27  WCIO Part Of Body Code              556944 non-null  category\n",
      " 28  WCIO Part Of Body Description       556944 non-null  object  \n",
      " 29  Zip Code                            545389 non-null  category\n",
      " 30  Agreement Reached                   574026 non-null  float64 \n",
      " 31  WCB Decision                        574026 non-null  object  \n",
      " 32  Number of Dependents                574026 non-null  float64 \n",
      " 33  log Average Weekly Wage             545375 non-null  float64 \n",
      "dtypes: category(7), float64(8), object(19)\n",
      "memory usage: 154.0+ MB\n"
     ]
    }
   ],
   "source": [
    "train.info()"
   ]
  },
  {
   "cell_type": "markdown",
   "metadata": {},
   "source": [
    "## OIICS Nature of Injury Description"
   ]
  },
  {
   "cell_type": "code",
   "execution_count": 28,
   "metadata": {},
   "outputs": [
    {
     "data": {
      "text/plain": [
       "np.float64(100.0)"
      ]
     },
     "execution_count": 28,
     "metadata": {},
     "output_type": "execute_result"
    }
   ],
   "source": [
    "train['OIICS Nature of Injury Description'].value_counts()\n",
    "train['OIICS Nature of Injury Description'].isnull().sum()/len(train['OIICS Nature of Injury Description'])*100"
   ]
  },
  {
   "cell_type": "markdown",
   "metadata": {},
   "source": [
    "the whole column is null"
   ]
  },
  {
   "cell_type": "code",
   "execution_count": 29,
   "metadata": {},
   "outputs": [],
   "source": [
    "#remove IME-4 Count from the dataset train\n",
    "train.drop(columns='OIICS Nature of Injury Description', inplace=True)"
   ]
  },
  {
   "cell_type": "code",
   "execution_count": 30,
   "metadata": {},
   "outputs": [],
   "source": [
    "num_col = [col for col in num_col if col != 'OIICS Nature of Injury Description']"
   ]
  },
  {
   "cell_type": "markdown",
   "metadata": {},
   "source": [
    "## Agreement Reached"
   ]
  },
  {
   "cell_type": "code",
   "execution_count": 31,
   "metadata": {},
   "outputs": [
    {
     "name": "stdout",
     "output_type": "stream",
     "text": [
      "Number of NaN values in Agreement Reached:  19443 \n",
      "unique values:  [ 0.  1. nan]\n",
      "3.2761610126223943 percent of the values are NaN\n"
     ]
    }
   ],
   "source": [
    "uniqueAgrRea = train['Agreement Reached'].unique()\n",
    "cuntnaAgreRea = train['Agreement Reached'].isnull().sum()\n",
    "print(\"Number of NaN values in Agreement Reached: \", cuntnaAgreRea,\n",
    "        \"\\nunique values: \", uniqueAgrRea)\n",
    "\n",
    "print (cuntnaAgreRea/len(train['Agreement Reached']) *100, \"percent of the values are NaN\")"
   ]
  },
  {
   "cell_type": "markdown",
   "metadata": {},
   "source": [
    "this column can be transformed to boolean"
   ]
  },
  {
   "cell_type": "code",
   "execution_count": 32,
   "metadata": {},
   "outputs": [],
   "source": [
    "train['Agreement Reached'] = train['Agreement Reached'].astype('bool')"
   ]
  },
  {
   "cell_type": "markdown",
   "metadata": {},
   "source": [
    "## Number of Dependents"
   ]
  },
  {
   "cell_type": "code",
   "execution_count": 33,
   "metadata": {},
   "outputs": [
    {
     "data": {
      "text/plain": [
       "np.float64(3.2761610126223943)"
      ]
     },
     "execution_count": 33,
     "metadata": {},
     "output_type": "execute_result"
    }
   ],
   "source": [
    "train['Number of Dependents'].describe()\n",
    "train['Number of Dependents'].isnull().sum()/len(train['Number of Dependents'])*100"
   ]
  },
  {
   "cell_type": "markdown",
   "metadata": {},
   "source": [
    "## Year of birth"
   ]
  },
  {
   "cell_type": "code",
   "execution_count": 39,
   "metadata": {},
   "outputs": [],
   "source": [
    "train['Birth Year'].describe() \n",
    "train[train['Birth Year'] == 0] = np.nan\n",
    "train['Birth Year'] = train['Birth Year'].astype('Int64')"
   ]
  },
  {
   "cell_type": "code",
   "execution_count": 36,
   "metadata": {},
   "outputs": [],
   "source": [
    "train['Age'] = 2024 - train['Birth Year']\n",
    "num_col.append('Age')"
   ]
  },
  {
   "cell_type": "markdown",
   "metadata": {},
   "source": [
    "# function to preprocess future data in this form"
   ]
  },
  {
   "cell_type": "code",
   "execution_count": 46,
   "metadata": {},
   "outputs": [
    {
     "name": "stdout",
     "output_type": "stream",
     "text": [
      "IME-4 Count or OIICS Nature of Injury Description not found\n",
      "Agreement Reached not found\n",
      "<class 'pandas.core.frame.DataFrame'>\n",
      "RangeIndex: 387975 entries, 0 to 387974\n",
      "Data columns (total 30 columns):\n",
      " #   Column                             Non-Null Count   Dtype   \n",
      "---  ------                             --------------   -----   \n",
      " 0   Accident Date                      366141 non-null  object  \n",
      " 1   Age at Injury                      368379 non-null  float64 \n",
      " 2   Alternative Dispute Resolution     368379 non-null  object  \n",
      " 3   Assembly Date                      368379 non-null  object  \n",
      " 4   Attorney/Representative            368379 non-null  object  \n",
      " 5   Average Weekly Wage                350085 non-null  float64 \n",
      " 6   Birth Year                         348909 non-null  Int64   \n",
      " 7   C-2 Date                           359966 non-null  object  \n",
      " 8   C-3 Date                           82270 non-null   object  \n",
      " 9   Carrier Name                       368379 non-null  object  \n",
      " 10  Carrier Type                       368379 non-null  object  \n",
      " 11  Claim Identifier                   368379 non-null  category\n",
      " 12  County of Injury                   368379 non-null  object  \n",
      " 13  COVID-19 Indicator                 368379 non-null  object  \n",
      " 14  District Name                      368379 non-null  object  \n",
      " 15  First Hearing Date                 41764 non-null   object  \n",
      " 16  Gender                             368379 non-null  object  \n",
      " 17  Industry Code                      361215 non-null  category\n",
      " 18  Industry Code Description          361215 non-null  category\n",
      " 19  Medical Fee Region                 368379 non-null  object  \n",
      " 20  WCIO Cause of Injury Code          358836 non-null  category\n",
      " 21  WCIO Cause of Injury Description   358836 non-null  object  \n",
      " 22  WCIO Nature of Injury Code         358632 non-null  category\n",
      " 23  WCIO Nature of Injury Description  358632 non-null  object  \n",
      " 24  WCIO Part Of Body Code             359692 non-null  category\n",
      " 25  WCIO Part Of Body Description      359692 non-null  object  \n",
      " 26  Zip Code                           350017 non-null  category\n",
      " 27  Number of Dependents               368379 non-null  float64 \n",
      " 28  log Average Weekly Wage            350085 non-null  float64 \n",
      " 29  Age                                348909 non-null  Int64   \n",
      "dtypes: Int64(2), category(7), float64(4), object(17)\n",
      "memory usage: 84.1+ MB\n"
     ]
    }
   ],
   "source": [
    "def standardize_numerical(df):\n",
    "    # identify the primary key\n",
    "    PrimarKey_df = 'Claim Identifier'\n",
    "    # identify the numerical columns\n",
    "    num_col_df = df.select_dtypes(include=np.number).columns\n",
    "    # identify the categorical columns\n",
    "    code_col_df = [col for col in df.columns if 'Code' in col]\n",
    "    code_col_df.append(PrimarKey_df)\n",
    "    num_col_df = [col for col in num_col_df if col not in code_col_df]\n",
    "    # convert the categorical columns to category type\n",
    "    for col in code_col_df:\n",
    "        df[col] = df[col].astype('category')\n",
    "    \n",
    "    # check for repeated values in the primary key\n",
    "    x=df[PrimarKey_df].value_counts()\n",
    "    repeated_df_Id = x[x>1] \n",
    "    \n",
    "    repetitions_df = []\n",
    "    try:\n",
    "        repetitions_df = df[df[PrimarKey_df] == repeated_df_Id.index[0]]\n",
    "        size_rep = len(repetitions_df)\n",
    "\n",
    "    except:\n",
    "        size_rep = 0\n",
    "\n",
    "    if size_rep > 0:\n",
    "        print(\"There are repeated values in the dataset\")\n",
    "        print(repetitions_df)\n",
    "    \n",
    "    # log transformation of the Average Weekly Wage\n",
    "    df[\"log Average Weekly Wage\"] = np.log(df[\"Average Weekly Wage\"]+1) # +1 to avoid log(0) as the minimum value is 0\n",
    "    # question: should we look fo the claim identifier in te triaing datset to see if we already have it?\n",
    "    \n",
    "    #remove the IME-4 Count count form num_col_df\n",
    "    try:\n",
    "        df.drop(columns='IME-4 Count', inplace=True)\n",
    "        df.drop(columns='OIICS Nature of Injury Description', inplace=True)\n",
    "        num_col_df = [col for col in num_col_df if col != 'IME-4 Count']\n",
    "        num_col_df = [col for col in num_col_df if col != 'OIICS Nature of Injury Description']\n",
    "    except:\n",
    "        print(\"IME-4 Count or OIICS Nature of Injury Description not found\")\n",
    "    \n",
    "    # transform the 'Agreement Reached' column to boolean\n",
    "    try:\n",
    "        df['Agreement Reached'] = df['Agreement Reached'].astype('bool')\n",
    "    except:\n",
    "        print(\"Agreement Reached not found\")\n",
    "    \n",
    "    num_col_df = [col for col in num_col_df if col != 'Agreement Reached']\n",
    "    # standardize the 'Birth Year' column\n",
    "    df[df['Birth Year'] == 0] = np.nan\n",
    "    df['Birth Year'] = df['Birth Year'].astype('Int64')\n",
    "    # create the 'Age' column\n",
    "    df['Age'] = 2024 - df['Birth Year']\n",
    "    num_col_df.append('Age')\n",
    "    \n",
    "    return df\n",
    "\n",
    "    \n",
    "    \n",
    "    \n",
    "    \n",
    "x = standardize_numerical(test)\n",
    "x.info()"
   ]
  }
 ],
 "metadata": {
  "kernelspec": {
   "display_name": "ML_env",
   "language": "python",
   "name": "python3"
  },
  "language_info": {
   "codemirror_mode": {
    "name": "ipython",
    "version": 3
   },
   "file_extension": ".py",
   "mimetype": "text/x-python",
   "name": "python",
   "nbconvert_exporter": "python",
   "pygments_lexer": "ipython3",
   "version": "3.12.7"
  }
 },
 "nbformat": 4,
 "nbformat_minor": 2
}
